{
 "cells": [
  {
   "cell_type": "code",
   "execution_count": 36,
   "metadata": {},
   "outputs": [],
   "source": [
    "import numpy as np\n",
    "import pandas as pd\n",
    "import statistics as stats\n",
    "import re\n",
    "df_review = pd.read_csv('../origin_data/googleplaystore_user_reviews.csv') # read the whole data\n",
    "df_googleplaystore = pd.read_csv('../processed_data/processed_googleplaystore_dropped.csv') # read the whole data"
   ]
  },
  {
   "cell_type": "code",
   "execution_count": 37,
   "metadata": {},
   "outputs": [],
   "source": [
    "listnan = []\n",
    "for e, i in enumerate(df_review.iloc[:, 2]):\n",
    "    if type(i) is float:\n",
    "        listnan.append(e)\n",
    "\n",
    "df_review = df_review.drop(listnan)\n",
    "\n",
    "skind = set()\n",
    "for i in df_review.iloc[:, 0]:\n",
    "    skind.add(i)\n"
   ]
  },
  {
   "cell_type": "code",
   "execution_count": 38,
   "metadata": {},
   "outputs": [],
   "source": [
    "for e, i in enumerate(df_review.iloc[:, 2]):\n",
    "    if i == \"Neutral\":\n",
    "        df_review.iloc[e, 2] = 0\n",
    "    elif i == \"Negative\":\n",
    "        df_review.iloc[e, 2] = -1\n",
    "    else:\n",
    "        df_review.iloc[e, 2] = 1"
   ]
  },
  {
   "cell_type": "code",
   "execution_count": 39,
   "metadata": {},
   "outputs": [],
   "source": [
    "dtimes = dict()\n",
    "for i in skind:\n",
    "    dtimes.update({i: 0})\n",
    "\n",
    "#for key, value in d.items():\n",
    "#    print(key, value)"
   ]
  },
  {
   "cell_type": "code",
   "execution_count": 40,
   "metadata": {},
   "outputs": [],
   "source": [
    "for i in df_review.iloc[:, 0]:\n",
    "    dtimes[i] += 1"
   ]
  },
  {
   "cell_type": "code",
   "execution_count": 41,
   "metadata": {},
   "outputs": [],
   "source": [
    "dsum = dict()\n",
    "for i in skind:\n",
    "    dsum.update({i: 0})\n",
    "\n",
    "for e, i in enumerate(df_review.iloc[:, 0]):\n",
    "    dsum[i] += df_review.iloc[e, 2]\n",
    "\n",
    "#for key, value in dsum.items():\n",
    "#    print(key, \":\", value)"
   ]
  },
  {
   "cell_type": "code",
   "execution_count": 42,
   "metadata": {},
   "outputs": [],
   "source": [
    "for key, value in dtimes.items():\n",
    "    dsum[key] /= value"
   ]
  },
  {
   "cell_type": "code",
   "execution_count": 45,
   "metadata": {},
   "outputs": [],
   "source": [
    "listnan=[]\n",
    "for e, i in enumerate(df_googleplaystore.iloc[:, 0]):\n",
    "    if not i in skind:\n",
    "        listnan.append(e)\n",
    "\n",
    "df_googleplaystore = df_googleplaystore.drop(listnan)"
   ]
  },
  {
   "cell_type": "code",
   "execution_count": 47,
   "metadata": {},
   "outputs": [],
   "source": [
    "dtmp = dict()\n",
    "for i in skind:\n",
    "    dtmp.update({i: 0})\n",
    "\n",
    "for i in df_googleplaystore.iloc[:, 0]:\n",
    "    dtmp[i] += 1"
   ]
  },
  {
   "cell_type": "code",
   "execution_count": 49,
   "metadata": {
    "scrolled": false
   },
   "outputs": [],
   "source": [
    "append_array=[]\n",
    "for i in df_googleplaystore.iloc[:,0]:\n",
    "    append_array.append(dsum[i])\n",
    "df_googleplaystore.insert(6, 'review_rating', append_array)\n"
   ]
  },
  {
   "cell_type": "code",
   "execution_count": 50,
   "metadata": {},
   "outputs": [],
   "source": [
    "df_googleplaystore.to_csv('../processed_data/processed_googleplaystore_merged_final.csv', sep=',', index=0)"
   ]
  }
 ],
 "metadata": {
  "kernelspec": {
   "display_name": "Python 3",
   "language": "python",
   "name": "python3"
  },
  "language_info": {
   "codemirror_mode": {
    "name": "ipython",
    "version": 3
   },
   "file_extension": ".py",
   "mimetype": "text/x-python",
   "name": "python",
   "nbconvert_exporter": "python",
   "pygments_lexer": "ipython3",
   "version": "3.5.2"
  }
 },
 "nbformat": 4,
 "nbformat_minor": 2
}
