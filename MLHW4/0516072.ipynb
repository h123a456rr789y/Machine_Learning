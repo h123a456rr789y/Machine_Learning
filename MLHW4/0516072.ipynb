{
 "cells": [
  {
   "cell_type": "code",
   "execution_count": 306,
   "metadata": {},
   "outputs": [],
   "source": [
    "import numpy as np\n",
    "import pandas as pd\n",
    "import matplotlib.pyplot as plt\n",
    "from scipy.io import loadmat"
   ]
  },
  {
   "cell_type": "code",
   "execution_count": 307,
   "metadata": {},
   "outputs": [
    {
     "name": "stderr",
     "output_type": "stream",
     "text": [
      "/home/harry/.local/lib/python3.6/site-packages/sklearn/preprocessing/_encoders.py:363: FutureWarning: The handling of integer data will change in version 0.22. Currently, the categories are determined based on the range [0, max(values)], while in the future they will be determined based on the unique values.\n",
      "If you want the future behaviour and silence this warning, you can specify \"categories='auto'\".\n",
      "In case you used a LabelEncoder before this OneHotEncoder to convert the categories to integers, then you can now use the OneHotEncoder directly.\n",
      "  warnings.warn(msg, FutureWarning)\n"
     ]
    }
   ],
   "source": [
    "data = loadmat('data/hw4.mat')\n",
    "from sklearn.preprocessing import OneHotEncoder\n",
    "encoder = OneHotEncoder(sparse=False)\n",
    "y_onehot = encoder.fit_transform(data['y'])"
   ]
  },
  {
   "cell_type": "code",
   "execution_count": 308,
   "metadata": {},
   "outputs": [],
   "source": [
    "def sigmoid(z):\n",
    "    return 1 / (1 + np.exp(-z))"
   ]
  },
  {
   "cell_type": "code",
   "execution_count": 309,
   "metadata": {},
   "outputs": [],
   "source": [
    "def forward_propagate(X, theta1, theta2):\n",
    "    m = X.shape[0]\n",
    "    #Write codes here\n",
    "    \n",
    "    X_ndarr = np.matrix(X)\n",
    "    tmp=np.ones(m)\n",
    "    bias = np.array(tmp, ndmin=2)\n",
    "    X_ndarr = np.concatenate((bias.T, X_ndarr), axis=1)\n",
    "    a1= X_ndarr\n",
    "    \n",
    "    z2= np.matmul(a1, theta1.T)\n",
    "    \n",
    "    a2= sigmoid(z2)\n",
    "    a2= np.concatenate((bias.T, a2), axis=1)\n",
    "    \n",
    "    z3= np.matmul(a2, theta2.T)\n",
    "    \n",
    "    h= sigmoid(z3)\n",
    "    \n",
    "    return a1, z2, a2, z3, h\n"
   ]
  },
  {
   "cell_type": "code",
   "execution_count": 310,
   "metadata": {},
   "outputs": [],
   "source": [
    "def cost(params, input_size, hidden_size, num_labels, X, y, learning_rate):\n",
    "    #print(\"I am in cost function 1\")\n",
    "    m = X.shape[0]\n",
    "    X = np.matrix(X)\n",
    "    y = np.matrix(y)\n",
    "    #print(\"I am in cost function 2\")\n",
    "    # reshape the parameter array into parameter matrices for each layer\n",
    "    theta1 = np.matrix(np.reshape(params[:hidden_size * (input_size + 1)], (hidden_size, (input_size + 1))))\n",
    "    theta2 = np.matrix(np.reshape(params[hidden_size * (input_size + 1):], (num_labels, (hidden_size + 1))))\n",
    "    # run the feed-forward pass\n",
    "    #print(\"I am in cost function 3\")\n",
    "    a1, z2, a2, z3, h = forward_propagate(X, theta1, theta2)\n",
    "    # compute the cost\n",
    "    J = 0\n",
    "    #print(\"I am in cost function 4\")\n",
    "    for i in range(m):\n",
    "        first_term = np.multiply(-y[i,:], np.log(h[i,:]))\n",
    "        epsilon = 1e-30\n",
    "        second_term = np.multiply((1 - y[i,:]), np.log(1 - h[i,:]))\n",
    "        J += np.sum(first_term - second_term)\n",
    "    #print(\"I am in cost function 5\")\n",
    "    J = J / m\n",
    "   \t#J += (float(learning_rate) / (2*m) * (np.sum(np.power(theta1[:,1:], 2)) + np.sum(np.power(theta2[:,1:]))))\n",
    "    J += (float(learning_rate) / (2*m) * (np.sum(np.power(theta1[:,1:], 2)) + np.sum(np.power(theta2[:,1:], 2))))\n",
    "\n",
    "    #print(\"I am in cost function 6\")\n",
    "\n",
    "    return J"
   ]
  },
  {
   "cell_type": "code",
   "execution_count": 311,
   "metadata": {},
   "outputs": [],
   "source": [
    "input_size = 400\n",
    "hidden_size = 25\n",
    "num_labels = 10\n",
    "learning_rate = 1\n",
    "# randomly initialize a parameter array of the size of the full network's parameters\n",
    "params = (np.random.random(size=hidden_size * (input_size + 1) + num_labels * (hidden_size + 1)) - 0.5) * 0.2\n",
    "m = data['X'].shape[0]\n",
    "X = np.matrix(data['X'])\n",
    "y = np.matrix(data['y'])\n",
    "# unravel the parameter array into parameter matrices for each layer\n",
    "theta1 = np.matrix(np.reshape(params[:hidden_size * (input_size + 1)], (hidden_size, (input_size + 1))))\n",
    "theta2 = np.matrix(np.reshape(params[hidden_size * (input_size + 1):], (num_labels, (hidden_size + 1))))\n",
    "\n",
    "a1, z2, a2, z3, h = forward_propagate(X, theta1, theta2)"
   ]
  },
  {
   "cell_type": "code",
   "execution_count": 312,
   "metadata": {},
   "outputs": [],
   "source": [
    "def sigmoid_gradient(z):\n",
    "    return np.multiply(sigmoid(z), (1 - sigmoid(z)))    "
   ]
  },
  {
   "cell_type": "code",
   "execution_count": 313,
   "metadata": {},
   "outputs": [],
   "source": [
    "def backprop(params, input_size, hidden_size, num_labels, X, y, learning_rate):\n",
    "    m = X.shape[0]\n",
    "    \n",
    "    #Write codes here\n",
    "    \n",
    "    theta1_b= np.matrix(np.reshape(params[:hidden_size * (input_size + 1)], (hidden_size, (input_size + 1))))\n",
    "    theta2_b= np.matrix(np.reshape(params[hidden_size * (input_size + 1):], (num_labels, (hidden_size + 1))))\n",
    "    \n",
    "    delta1= np.zeros((hidden_size, input_size+1))\n",
    "    delta2= np.zeros((num_labels, hidden_size+1))\n",
    "    \n",
    "    theta1= theta1_b[:, 1:]\n",
    "    #print(\"theta1withoutbias shape: \", theta1_b.shape) #-> (25, 400)\n",
    "    theta2= theta2_b[:, 1:]\n",
    "    #print(\"theta2withoutbias shape: \", theta2_b.shape) #-> (10, 25)\n",
    "    \n",
    "    for i in range(m):\n",
    "        \n",
    "        bias=np.array([1], ndmin=2)\n",
    "        \n",
    "        a1_1=np.concatenate((bias, X[i].T), axis=0)\n",
    "        z2_2=np.matmul(theta1_b, a1_1)\n",
    "        a2_2=np.concatenate((bias, sigmoid(z2_2)), axis=0)\n",
    "        z3_3=np.matmul(theta2_b, a2_2)\n",
    "        a3_3=sigmoid(z3_3)\n",
    "        \n",
    "        d3= np.subtract(a3_3, y[i].reshape(10, 1))\n",
    "        \n",
    "        d2= np.multiply(np.matmul(theta2.T, d3), sigmoid_gradient(z2_2))\n",
    "            \n",
    "        delta2 = delta2 + np.matmul(d3, a2_2.T)\n",
    "        delta1 = delta1 + np.matmul(d2, a1_1.T)\n",
    "        \n",
    "    theta1_grad = (1 / m) * delta1\n",
    "    theta2_grad = (1 / m) * delta2\n",
    "        \n",
    "    theta1_grad[:, 1:] += ((learning_rate / m) * theta1)\n",
    "    theta2_grad[:, 1:] += ((learning_rate / m) * theta2)\n",
    "        \n",
    "        \n",
    "    J=cost(params, input_size, hidden_size, num_labels, X, y, learning_rate)\n",
    "    grad=np.concatenate((theta1_grad.flatten(), theta2_grad.flatten()), axis=1)\n",
    "        \n",
    "    return J, grad"
   ]
  },
  {
   "cell_type": "code",
   "execution_count": 314,
   "metadata": {},
   "outputs": [
    {
     "name": "stdout",
     "output_type": "stream",
     "text": [
      "accuracy = 99.6%\n"
     ]
    }
   ],
   "source": [
    "from scipy.optimize import minimize\n",
    "# minimize the objective function\n",
    "fmin = minimize(fun=backprop, x0=params, args=(input_size, hidden_size, num_labels, X, y_onehot, learning_rate), method='TNC', jac=True, options={'maxiter':800})\n",
    " \n",
    "X = np.matrix(X)\n",
    "theta1 = np.matrix(np.reshape(fmin.x[:hidden_size * (input_size + 1)], (hidden_size, (input_size + 1))))\n",
    "theta2 = np.matrix(np.reshape(fmin.x[hidden_size * (input_size + 1):], (num_labels, (hidden_size + 1))))\n",
    "a1, z2, a2, z3, h = forward_propagate(X, theta1, theta2)\n",
    "y_pred = np.array(np.argmax(h, axis=1) + 1)\n",
    "\n",
    "correct = [1 if a == b else 0 for (a, b) in zip(y_pred, y)]\n",
    "accuracy = (sum(map(int, correct)) / float(len(correct)))\n",
    "print ('accuracy = {0}%'.format(accuracy * 100))"
   ]
  },
  {
   "cell_type": "code",
   "execution_count": null,
   "metadata": {},
   "outputs": [],
   "source": []
  },
  {
   "cell_type": "code",
   "execution_count": null,
   "metadata": {},
   "outputs": [],
   "source": []
  },
  {
   "cell_type": "code",
   "execution_count": null,
   "metadata": {},
   "outputs": [],
   "source": []
  }
 ],
 "metadata": {
  "kernelspec": {
   "display_name": "Python 3",
   "language": "python",
   "name": "python3"
  },
  "language_info": {
   "codemirror_mode": {
    "name": "ipython",
    "version": 3
   },
   "file_extension": ".py",
   "mimetype": "text/x-python",
   "name": "python",
   "nbconvert_exporter": "python",
   "pygments_lexer": "ipython3",
   "version": "3.6.7"
  }
 },
 "nbformat": 4,
 "nbformat_minor": 2
}
