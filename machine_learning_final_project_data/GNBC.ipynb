{
 "cells": [
  {
   "cell_type": "code",
   "execution_count": 1,
   "metadata": {},
   "outputs": [],
   "source": [
    "import pandas as pd\n",
    "import numpy as np\n",
    "import sklearn\n",
    "import scipy\n",
    "from sklearn.naive_bayes import GaussianNB\n",
    "from sklearn.model_selection import train_test_split"
   ]
  },
  {
   "cell_type": "code",
   "execution_count": 2,
   "metadata": {},
   "outputs": [],
   "source": [
    "df_X = pd.read_csv('./feature_select/Feature_select_3/BEST_FEATURES/HUMAN10.csv', header=None, index_col=False)\n",
    "\n",
    "df_Y = pd.read_csv('./feature_select/Feature_select_3/TARGET/TARGET.csv',header=None, index_col=False)\n",
    "\n",
    "df_X = df_X.drop(df_X.index[0])"
   ]
  },
  {
   "cell_type": "code",
   "execution_count": 6,
   "metadata": {},
   "outputs": [],
   "source": [
    "X = df_X.values\n",
    "y = df_Y.values\n",
    "# print(X.shape)\n",
    "# print(y.shape)\n",
    "\n",
    "\n",
    "total=0\n",
    "for x in range(0, 100):\n",
    "    X_train, X_test, y_train, y_test = train_test_split(X, y, test_size = 0.2)\n",
    "\n",
    "# print(type(X_train))\n",
    "# print(type(X_test))\n",
    "# print(type(y_train))\n",
    "# print(type(y_test))\n",
    "# print(X_train.shape)\n",
    "# print(X_test.shape)\n",
    "# print(y_train.shape)\n",
    "# print(y_test.shape)\n",
    "\n",
    "    clf = GaussianNB()\n",
    "\n",
    "    y_pred =clf.fit(X_train,y_train.ravel()).predict(X_train)\n",
    "\n",
    "    y_pred = np.reshape(y_pred, (y_pred.shape[0], 1))\n",
    "    \n",
    "    #print(type(y_pred))\n",
    "    #print(y_pred.shape)\n",
    "    #print(type(FF))\n",
    "    #print(FF.shape)\n",
    "\n",
    "    s = clf.score(X_test, y_test)\n",
    "    total= s+total\n",
    "    final=total/100"
   ]
  },
  {
   "cell_type": "code",
   "execution_count": 7,
   "metadata": {},
   "outputs": [
    {
     "name": "stdout",
     "output_type": "stream",
     "text": [
      "The final socre:0.6728457869634338\n"
     ]
    }
   ],
   "source": [
    "print(\"The final socre:{}\".format(final))"
   ]
  }
 ],
 "metadata": {
  "kernelspec": {
   "display_name": "Python 3",
   "language": "python",
   "name": "python3"
  },
  "language_info": {
   "codemirror_mode": {
    "name": "ipython",
    "version": 3
   },
   "file_extension": ".py",
   "mimetype": "text/x-python",
   "name": "python",
   "nbconvert_exporter": "python",
   "pygments_lexer": "ipython3",
   "version": "3.6.7"
  }
 },
 "nbformat": 4,
 "nbformat_minor": 2
}
