{
 "cells": [
  {
   "cell_type": "code",
   "execution_count": 4,
   "metadata": {},
   "outputs": [],
   "source": [
    "import numpy as np\n",
    "import scipy\n",
    "import pandas as pd\n",
    "from scipy.stats import linregress\n",
    "import matplotlib.pyplot as plt\n",
    "from sklearn import datasets, linear_model\n",
    "from sklearn.metrics import mean_squared_error, r2_score\n",
    "from sklearn.decomposition import PCA\n",
    "from sklearn.feature_selection import VarianceThreshold\n",
    "from sklearn.feature_selection import SelectKBest\n",
    "from sklearn.feature_selection import chi2\n",
    "from sklearn.svm import LinearSVC\n",
    "from sklearn.feature_selection import SelectFromModel"
   ]
  },
  {
   "cell_type": "code",
   "execution_count": 5,
   "metadata": {},
   "outputs": [],
   "source": [
    "df_target = pd.read_csv('HEALTH.csv')"
   ]
  },
  {
   "cell_type": "code",
   "execution_count": 6,
   "metadata": {},
   "outputs": [],
   "source": [
    "df_ACCESS = pd.read_csv('ACCESS.csv')"
   ]
  },
  {
   "cell_type": "code",
   "execution_count": 7,
   "metadata": {},
   "outputs": [
    {
     "data": {
      "text/plain": [
       "['Unnamed: 0',\n",
       " 'FIPS',\n",
       " 'State',\n",
       " 'County',\n",
       " 'LACCESS_POP10',\n",
       " 'LACCESS_POP15',\n",
       " 'PCH_LACCESS_POP_10_15',\n",
       " 'PCT_LACCESS_POP10',\n",
       " 'PCT_LACCESS_POP15',\n",
       " 'LACCESS_LOWI10',\n",
       " 'LACCESS_LOWI15',\n",
       " 'PCH_LACCESS_LOWI_10_15',\n",
       " 'PCT_LACCESS_LOWI10',\n",
       " 'PCT_LACCESS_LOWI15',\n",
       " 'LACCESS_HHNV10',\n",
       " 'LACCESS_HHNV15',\n",
       " 'PCH_LACCESS_HHNV_10_15',\n",
       " 'PCT_LACCESS_HHNV10',\n",
       " 'PCT_LACCESS_HHNV15',\n",
       " 'LACCESS_SNAP15',\n",
       " 'PCT_LACCESS_SNAP15',\n",
       " 'LACCESS_CHILD10',\n",
       " 'LACCESS_CHILD15',\n",
       " 'LACCESS_CHILD_10_15',\n",
       " 'PCT_LACCESS_CHILD10',\n",
       " 'PCT_LACCESS_CHILD15',\n",
       " 'LACCESS_SENIORS10',\n",
       " 'LACCESS_SENIORS15',\n",
       " 'PCH_LACCESS_SENIORS_10_15',\n",
       " 'PCT_LACCESS_SENIORS10',\n",
       " 'PCT_LACCESS_SENIORS15',\n",
       " 'LACCESS_WHITE15',\n",
       " 'PCT_LACCESS_WHITE15',\n",
       " 'LACCESS_BLACK15',\n",
       " 'PCT_LACCESS_BLACK15',\n",
       " 'LACCESS_HISP15',\n",
       " 'PCT_LACCESS_HISP15',\n",
       " 'LACCESS_NHASIAN15',\n",
       " 'PCT_LACCESS_NHASIAN15',\n",
       " 'LACCESS_NHNA15',\n",
       " 'PCT_LACCESS_NHNA15',\n",
       " 'LACCESS_NHPI15',\n",
       " 'PCT_LACCESS_NHPI15',\n",
       " 'LACCESS_MULTIR15',\n",
       " 'PCT_LACCESS_MULTIR15']"
      ]
     },
     "execution_count": 7,
     "metadata": {},
     "output_type": "execute_result"
    }
   ],
   "source": [
    "list(df_ACCESS)"
   ]
  },
  {
   "cell_type": "code",
   "execution_count": 8,
   "metadata": {},
   "outputs": [
    {
     "data": {
      "text/plain": [
       "['Unnamed: 0',\n",
       " 'FIPS',\n",
       " 'State',\n",
       " 'County',\n",
       " 'PCT_DIABETES_ADULTS08',\n",
       " 'PCT_DIABETES_ADULTS13',\n",
       " 'PCT_OBESE_ADULTS08',\n",
       " 'PCT_OBESE_ADULTS13',\n",
       " 'PCT_HSPA15',\n",
       " 'RECFAC09',\n",
       " 'RECFAC14',\n",
       " 'PCH_RECFAC_09_14',\n",
       " 'RECFACPTH09',\n",
       " 'RECFACPTH14',\n",
       " 'PCH_RECFACPTH_09_14']"
      ]
     },
     "execution_count": 8,
     "metadata": {},
     "output_type": "execute_result"
    }
   ],
   "source": [
    "list(df_target)"
   ]
  },
  {
   "cell_type": "code",
   "execution_count": 9,
   "metadata": {},
   "outputs": [
    {
     "data": {
      "text/plain": [
       "15"
      ]
     },
     "execution_count": 9,
     "metadata": {},
     "output_type": "execute_result"
    }
   ],
   "source": [
    "df_target.shape[1]"
   ]
  },
  {
   "cell_type": "code",
   "execution_count": 10,
   "metadata": {},
   "outputs": [
    {
     "ename": "NameError",
     "evalue": "name 'df1' is not defined",
     "output_type": "error",
     "traceback": [
      "\u001b[0;31m---------------------------------------------------------------------------\u001b[0m",
      "\u001b[0;31mNameError\u001b[0m                                 Traceback (most recent call last)",
      "\u001b[0;32m<ipython-input-10-4c375b6272ac>\u001b[0m in \u001b[0;36m<module>\u001b[0;34m\u001b[0m\n\u001b[0;32m----> 1\u001b[0;31m \u001b[0mFFR09\u001b[0m \u001b[0;34m=\u001b[0m \u001b[0mdf1\u001b[0m\u001b[0;34m[\u001b[0m\u001b[0mdf1\u001b[0m\u001b[0;34m.\u001b[0m\u001b[0mcolumns\u001b[0m\u001b[0;34m[\u001b[0m\u001b[0;36m4\u001b[0m\u001b[0;34m]\u001b[0m\u001b[0;34m]\u001b[0m\u001b[0;34m.\u001b[0m\u001b[0mtolist\u001b[0m\u001b[0;34m(\u001b[0m\u001b[0;34m)\u001b[0m\u001b[0;34m\u001b[0m\u001b[0m\n\u001b[0m",
      "\u001b[0;31mNameError\u001b[0m: name 'df1' is not defined"
     ]
    }
   ],
   "source": [
    "FFR09 = df1[df1.columns[4]].tolist()"
   ]
  },
  {
   "cell_type": "code",
   "execution_count": 82,
   "metadata": {},
   "outputs": [],
   "source": [
    "PCT_DIABETES_ADULTS08 = df2[df2.columns[4]].tolist()"
   ]
  },
  {
   "cell_type": "code",
   "execution_count": 90,
   "metadata": {},
   "outputs": [],
   "source": [
    "PCT_DIABETES_ADULTS13 = df2[df2.columns[5]].tolist()"
   ]
  },
  {
   "cell_type": "code",
   "execution_count": 95,
   "metadata": {},
   "outputs": [],
   "source": [
    "PCT_OBESE_ADULTS13 = df2[df2.columns[7]].tolist()"
   ]
  },
  {
   "cell_type": "code",
   "execution_count": 101,
   "metadata": {},
   "outputs": [],
   "source": [
    "FFRPTH14 = df2[df2.columns[8]].tolist()"
   ]
  },
  {
   "cell_type": "code",
   "execution_count": null,
   "metadata": {},
   "outputs": [],
   "source": []
  },
  {
   "cell_type": "code",
   "execution_count": 83,
   "metadata": {},
   "outputs": [
    {
     "data": {
      "text/plain": [
       "LinregressResult(slope=nan, intercept=nan, rvalue=nan, pvalue=nan, stderr=nan)"
      ]
     },
     "execution_count": 83,
     "metadata": {},
     "output_type": "execute_result"
    }
   ],
   "source": [
    "linregress(FFR09, PCT_DIABETES_ADULTS08)"
   ]
  },
  {
   "cell_type": "code",
   "execution_count": 84,
   "metadata": {},
   "outputs": [
    {
     "data": {
      "text/plain": [
       "3143"
      ]
     },
     "execution_count": 84,
     "metadata": {},
     "output_type": "execute_result"
    }
   ],
   "source": [
    "len(FFR09)"
   ]
  },
  {
   "cell_type": "code",
   "execution_count": 85,
   "metadata": {},
   "outputs": [
    {
     "data": {
      "text/plain": [
       "3143"
      ]
     },
     "execution_count": 85,
     "metadata": {},
     "output_type": "execute_result"
    }
   ],
   "source": [
    "len(PCT_DIABETES_ADULTS08)"
   ]
  },
  {
   "cell_type": "code",
   "execution_count": 86,
   "metadata": {},
   "outputs": [
    {
     "name": "stdout",
     "output_type": "stream",
     "text": [
      "9.897486477887398\n"
     ]
    }
   ],
   "source": [
    "sum = 0\n",
    "for i in PCT_DIABETES_ADULTS08:\n",
    "    if(np.isnan(i)):\n",
    "        pass\n",
    "    else:\n",
    "        sum = sum + i\n",
    "print(sum/len(PCT_DIABETES_ADULTS08))"
   ]
  },
  {
   "cell_type": "code",
   "execution_count": 87,
   "metadata": {},
   "outputs": [
    {
     "name": "stdout",
     "output_type": "stream",
     "text": [
      "76\n",
      "86\n",
      "87\n",
      "89\n",
      "93\n"
     ]
    }
   ],
   "source": [
    "for ind, i in enumerate(PCT_DIABETES_ADULTS08):\n",
    "    if(np.isnan(i)):\n",
    "        print(ind)\n",
    "        PCT_DIABETES_ADULTS08[ind]=9.897"
   ]
  },
  {
   "cell_type": "code",
   "execution_count": 88,
   "metadata": {},
   "outputs": [],
   "source": [
    "for i in PCT_DIABETES_ADULTS08:\n",
    "    if(np.isnan(i)):\n",
    "        print(i)"
   ]
  },
  {
   "cell_type": "code",
   "execution_count": 89,
   "metadata": {},
   "outputs": [
    {
     "data": {
      "text/plain": [
       "LinregressResult(slope=-0.0012244513478386807, intercept=9.995312473235389, rvalue=-0.13715985307153286, pvalue=1.1363580561012005e-14, stderr=0.00015778164717660588)"
      ]
     },
     "execution_count": 89,
     "metadata": {},
     "output_type": "execute_result"
    }
   ],
   "source": [
    "linregress(FFR09, PCT_DIABETES_ADULTS08)"
   ]
  },
  {
   "cell_type": "code",
   "execution_count": null,
   "metadata": {},
   "outputs": [],
   "source": []
  },
  {
   "cell_type": "code",
   "execution_count": 102,
   "metadata": {},
   "outputs": [],
   "source": [
    "for ind, i in enumerate(FFRPTH14):\n",
    "    if(np.isnan(i)):\n",
    "        FFRPTH14[ind] = 0.5"
   ]
  },
  {
   "cell_type": "code",
   "execution_count": 106,
   "metadata": {},
   "outputs": [
    {
     "data": {
      "text/plain": [
       "LinregressResult(slope=0.8065147421605836, intercept=7.566312137071391, rvalue=0.16417873135562525, pvalue=1.9778923159924592e-20, stderr=0.08646253928934262)"
      ]
     },
     "execution_count": 106,
     "metadata": {},
     "output_type": "execute_result"
    }
   ],
   "source": [
    "linregress(PCT_DIABETES_ADULTS13, FFRPTH14)"
   ]
  },
  {
   "cell_type": "code",
   "execution_count": 17,
   "metadata": {},
   "outputs": [],
   "source": [
    "tmplist = df_ACCESS[df_ACCESS.columns[5]].tolist()"
   ]
  },
  {
   "cell_type": "code",
   "execution_count": 19,
   "metadata": {},
   "outputs": [
    {
     "name": "stdout",
     "output_type": "stream",
     "text": [
      "540 nan\n",
      "612 nan\n",
      "754 nan\n",
      "777 nan\n",
      "1031 nan\n",
      "1059 nan\n",
      "1100 nan\n",
      "1240 nan\n",
      "1416 nan\n",
      "1929 nan\n",
      "1950 nan\n",
      "2512 nan\n",
      "2712 nan\n",
      "2833 nan\n",
      "2845 nan\n",
      "2868 nan\n",
      "2915 nan\n",
      "2926 nan\n",
      "3094 nan\n"
     ]
    }
   ],
   "source": [
    "for ind, i in enumerate(tmplist):\n",
    "    if np.isnan(i):\n",
    "        print(ind, i)"
   ]
  },
  {
   "cell_type": "code",
   "execution_count": null,
   "metadata": {},
   "outputs": [],
   "source": []
  }
 ],
 "metadata": {
  "kernelspec": {
   "display_name": "Python 3",
   "language": "python",
   "name": "python3"
  },
  "language_info": {
   "codemirror_mode": {
    "name": "ipython",
    "version": 3
   },
   "file_extension": ".py",
   "mimetype": "text/x-python",
   "name": "python",
   "nbconvert_exporter": "python",
   "pygments_lexer": "ipython3",
   "version": "3.5.2"
  }
 },
 "nbformat": 4,
 "nbformat_minor": 2
}
