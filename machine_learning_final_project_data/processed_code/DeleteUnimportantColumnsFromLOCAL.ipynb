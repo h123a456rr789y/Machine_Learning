{
 "cells": [
  {
   "cell_type": "code",
   "execution_count": 92,
   "metadata": {},
   "outputs": [],
   "source": [
    "import numpy as np\n",
    "import scipy\n",
    "import pandas as pd\n",
    "from scipy.stats import linregress\n",
    "import matplotlib.pyplot as plt\n",
    "from sklearn import datasets, linear_model\n",
    "from sklearn.metrics import mean_squared_error, r2_score\n",
    "from sklearn.decomposition import PCA\n",
    "from sklearn.feature_selection import VarianceThreshold\n",
    "from sklearn.feature_selection import SelectKBest\n",
    "from sklearn.feature_selection import chi2\n",
    "from sklearn.svm import LinearSVC\n",
    "from sklearn.feature_selection import SelectFromModel\n",
    "# self defined function\n",
    "import def_function as foo"
   ]
  },
  {
   "cell_type": "code",
   "execution_count": 93,
   "metadata": {},
   "outputs": [],
   "source": [
    "df = pd.read_csv('LOCAL.csv')"
   ]
  },
  {
   "cell_type": "code",
   "execution_count": 94,
   "metadata": {},
   "outputs": [
    {
     "name": "stdout",
     "output_type": "stream",
     "text": [
      "(3143, 101)\n"
     ]
    }
   ],
   "source": [
    "print(df.shape)"
   ]
  },
  {
   "cell_type": "code",
   "execution_count": 95,
   "metadata": {},
   "outputs": [
    {
     "data": {
      "text/plain": [
       "['Unnamed: 0',\n",
       " 'FIPS',\n",
       " 'State',\n",
       " 'County',\n",
       " 'DIRSALES_FARMS07',\n",
       " 'DIRSALES_FARMS12',\n",
       " 'PCH_DIRSALES_FARMS_07_12',\n",
       " 'PCT_LOCLFARM07',\n",
       " 'PCT_LOCLFARM12',\n",
       " 'PCT_LOCLSALE07',\n",
       " 'PCT_LOCLSALE12',\n",
       " 'DIRSALES07',\n",
       " 'DIRSALES12',\n",
       " 'PCH_DIRSALES_07_12',\n",
       " 'PC_DIRSALES07',\n",
       " 'PC_DIRSALES12',\n",
       " 'PCH_PC_DIRSALES_07_12',\n",
       " 'FMRKT09',\n",
       " 'FMRKT16',\n",
       " 'PCH_FMRKT_09_16',\n",
       " 'FMRKTPTH09',\n",
       " 'FMRKTPTH16',\n",
       " 'PCH_FMRKTPTH_09_16',\n",
       " 'FMRKT_SNAP16',\n",
       " 'PCT_FMRKT_SNAP16',\n",
       " 'FMRKT_WIC16',\n",
       " 'PCT_FMRKT_WIC16',\n",
       " 'FMRKT_WICCASH16',\n",
       " 'PCT_FMRKT_WICCASH16',\n",
       " 'FMRKT_SFMNP16',\n",
       " 'PCT_FMRKT_SFMNP16',\n",
       " 'FMRKT_CREDIT16',\n",
       " 'PCT_FMRKT_CREDIT16',\n",
       " 'FMRKT_FRVEG16',\n",
       " 'PCT_FMRKT_FRVEG16',\n",
       " 'FMRKT_ANMLPROD16',\n",
       " 'PCT_FMRKT_ANMLPROD16',\n",
       " 'FMRKT_BAKED16',\n",
       " 'PCT_FMRKT_BAKED16',\n",
       " 'FMRKT_OTHERFOOD16',\n",
       " 'PCT_FMRKT_OTHERFOOD16',\n",
       " 'VEG_FARMS07',\n",
       " 'VEG_FARMS12',\n",
       " 'PCH_VEG_FARMS_07_12',\n",
       " 'VEG_ACRES07',\n",
       " 'VEG_ACRES12',\n",
       " 'PCH_VEG_ACRES_07_12',\n",
       " 'VEG_ACRESPTH07',\n",
       " 'VEG_ACRESPTH12',\n",
       " 'PCH_VEG_ACRESPTH_07_12',\n",
       " 'FRESHVEG_FARMS07',\n",
       " 'FRESHVEG_FARMS12',\n",
       " 'PCH_FRESHVEG_FARMS_07_12',\n",
       " 'FRESHVEG_ACRES07',\n",
       " 'FRESHVEG_ACRES12',\n",
       " 'PCH_FRESHVEG_ACRES_07_12',\n",
       " 'FRESHVEG_ACRESPTH07',\n",
       " 'FRESHVEG_ACRESPTH12',\n",
       " 'PCH_FRESHVEG_ACRESPTH_07_12',\n",
       " 'ORCHARD_FARMS07',\n",
       " 'ORCHARD_FARMS12',\n",
       " 'PCH_ORCHARD_FARMS_07_12',\n",
       " 'ORCHARD_ACRES07',\n",
       " 'ORCHARD_ACRES12',\n",
       " 'PCH_ORCHARD_ACRES_07_12',\n",
       " 'ORCHARD_ACRESPTH07',\n",
       " 'ORCHARD_ACRESPTH12',\n",
       " 'PCH_ORCHARD_ACRESPTH_07_12',\n",
       " 'BERRY_FARMS07',\n",
       " 'BERRY_FARMS12',\n",
       " 'PCH_BERRY_FARMS_07_12',\n",
       " 'BERRY_ACRES07',\n",
       " 'BERRY_ACRES12',\n",
       " 'PCH_BERRY_ACRES_07_12',\n",
       " 'BERRY_ACRESPTH07',\n",
       " 'BERRY_ACRESPTH12',\n",
       " 'PCH_BERRY_ACRESPTH_07_12',\n",
       " 'SLHOUSE07',\n",
       " 'SLHOUSE12',\n",
       " 'PCH_SLHOUSE_07_12',\n",
       " 'GHVEG_FARMS07',\n",
       " 'GHVEG_FARMS12',\n",
       " 'PCH_GHVEG_FARMS_07_12',\n",
       " 'GHVEG_SQFT07',\n",
       " 'GHVEG_SQFT12',\n",
       " 'PCH_GHVEG_SQFT_07_12',\n",
       " 'GHVEG_SQFTPTH07',\n",
       " 'GHVEG_SQFTPTH12',\n",
       " 'PCH_GHVEG_SQFTPTH_07_12',\n",
       " 'FOODHUB16',\n",
       " 'CSA07',\n",
       " 'CSA12',\n",
       " 'PCH_CSA_07_12',\n",
       " 'AGRITRSM_OPS07',\n",
       " 'AGRITRSM_OPS12',\n",
       " 'PCH_AGRITRSM_OPS_07_12',\n",
       " 'AGRITRSM_RCT07',\n",
       " 'AGRITRSM_RCT12',\n",
       " 'PCH_AGRITRSM_RCT_07_12',\n",
       " 'FARM_TO_SCHOOL09',\n",
       " 'FARM_TO_SCHOOL13']"
      ]
     },
     "execution_count": 95,
     "metadata": {},
     "output_type": "execute_result"
    }
   ],
   "source": [
    "list(df)"
   ]
  },
  {
   "cell_type": "code",
   "execution_count": 96,
   "metadata": {},
   "outputs": [],
   "source": [
    "df = df.drop(['Unnamed: 0'], axis=1)"
   ]
  },
  {
   "cell_type": "code",
   "execution_count": 97,
   "metadata": {},
   "outputs": [],
   "source": [
    "df = df.drop(['State'], axis=1)"
   ]
  },
  {
   "cell_type": "code",
   "execution_count": 98,
   "metadata": {},
   "outputs": [],
   "source": [
    "df = df.drop(['County'], axis=1)"
   ]
  },
  {
   "cell_type": "code",
   "execution_count": 99,
   "metadata": {},
   "outputs": [],
   "source": [
    "df = df.drop(['DIRSALES_FARMS07'], axis=1)"
   ]
  },
  {
   "cell_type": "code",
   "execution_count": 100,
   "metadata": {},
   "outputs": [],
   "source": [
    "df = df.drop(['DIRSALES_FARMS12'], axis=1)"
   ]
  },
  {
   "cell_type": "code",
   "execution_count": 101,
   "metadata": {},
   "outputs": [],
   "source": [
    "df = df.drop(['PCH_DIRSALES_FARMS_07_12'], axis=1)"
   ]
  },
  {
   "cell_type": "code",
   "execution_count": 102,
   "metadata": {},
   "outputs": [],
   "source": [
    "df = df.drop(['DIRSALES07'], axis=1)"
   ]
  },
  {
   "cell_type": "code",
   "execution_count": 103,
   "metadata": {},
   "outputs": [],
   "source": [
    "df = df.drop(['DIRSALES12'], axis=1)"
   ]
  },
  {
   "cell_type": "code",
   "execution_count": 104,
   "metadata": {},
   "outputs": [],
   "source": [
    "df = df.drop(['PCH_DIRSALES_07_12'], axis=1)"
   ]
  },
  {
   "cell_type": "code",
   "execution_count": 105,
   "metadata": {},
   "outputs": [],
   "source": [
    "df = df.drop(['PCH_PC_DIRSALES_07_12'], axis=1)"
   ]
  },
  {
   "cell_type": "code",
   "execution_count": 106,
   "metadata": {},
   "outputs": [],
   "source": [
    "df = df.drop(['FMRKT09'], axis=1)"
   ]
  },
  {
   "cell_type": "code",
   "execution_count": 107,
   "metadata": {},
   "outputs": [],
   "source": [
    "df = df.drop(['FMRKT16'], axis=1)"
   ]
  },
  {
   "cell_type": "code",
   "execution_count": 108,
   "metadata": {},
   "outputs": [],
   "source": [
    "df = df.drop(['PCH_FMRKT_09_16'], axis=1)"
   ]
  },
  {
   "cell_type": "code",
   "execution_count": 109,
   "metadata": {},
   "outputs": [],
   "source": [
    "df = df.drop(['PCH_FMRKTPTH_09_16'], axis=1)"
   ]
  },
  {
   "cell_type": "code",
   "execution_count": 110,
   "metadata": {},
   "outputs": [],
   "source": [
    "df = df.drop(['FMRKT_SNAP16'], axis=1)"
   ]
  },
  {
   "cell_type": "code",
   "execution_count": 111,
   "metadata": {},
   "outputs": [],
   "source": [
    "df = df.drop(['FMRKT_WIC16'], axis=1)"
   ]
  },
  {
   "cell_type": "code",
   "execution_count": 112,
   "metadata": {},
   "outputs": [],
   "source": [
    "df = df.drop(['FMRKT_WICCASH16'], axis=1)"
   ]
  },
  {
   "cell_type": "code",
   "execution_count": 113,
   "metadata": {},
   "outputs": [],
   "source": [
    "df = df.drop(['FMRKT_SFMNP16'], axis=1)"
   ]
  },
  {
   "cell_type": "code",
   "execution_count": 114,
   "metadata": {},
   "outputs": [],
   "source": [
    "df = df.drop(['FMRKT_CREDIT16'], axis=1)"
   ]
  },
  {
   "cell_type": "code",
   "execution_count": 115,
   "metadata": {},
   "outputs": [],
   "source": [
    "df = df.drop(['FMRKT_FRVEG16'], axis=1)"
   ]
  },
  {
   "cell_type": "code",
   "execution_count": 116,
   "metadata": {},
   "outputs": [],
   "source": [
    "df = df.drop(['FMRKT_ANMLPROD16'], axis=1)"
   ]
  },
  {
   "cell_type": "code",
   "execution_count": 117,
   "metadata": {},
   "outputs": [],
   "source": [
    "df = df.drop(['FMRKT_BAKED16'], axis=1)"
   ]
  },
  {
   "cell_type": "code",
   "execution_count": 118,
   "metadata": {},
   "outputs": [],
   "source": [
    "df = df.drop(['FMRKT_OTHERFOOD16'], axis=1)"
   ]
  },
  {
   "cell_type": "code",
   "execution_count": 119,
   "metadata": {},
   "outputs": [],
   "source": [
    "df = df.drop(['VEG_FARMS07'], axis=1)"
   ]
  },
  {
   "cell_type": "code",
   "execution_count": 120,
   "metadata": {},
   "outputs": [],
   "source": [
    "df = df.drop(['VEG_FARMS12'], axis=1)"
   ]
  },
  {
   "cell_type": "code",
   "execution_count": 121,
   "metadata": {},
   "outputs": [],
   "source": [
    "df = df.drop(['PCH_VEG_FARMS_07_12'], axis=1)"
   ]
  },
  {
   "cell_type": "code",
   "execution_count": 122,
   "metadata": {},
   "outputs": [],
   "source": [
    "df = df.drop(['VEG_ACRES07'], axis=1)"
   ]
  },
  {
   "cell_type": "code",
   "execution_count": 123,
   "metadata": {},
   "outputs": [],
   "source": [
    "df = df.drop(['VEG_ACRES12'], axis=1)"
   ]
  },
  {
   "cell_type": "code",
   "execution_count": 124,
   "metadata": {},
   "outputs": [],
   "source": [
    "df = df.drop(['PCH_VEG_ACRES_07_12'], axis=1)"
   ]
  },
  {
   "cell_type": "code",
   "execution_count": 125,
   "metadata": {},
   "outputs": [],
   "source": [
    "df = df.drop(['PCH_VEG_ACRESPTH_07_12'], axis=1)"
   ]
  },
  {
   "cell_type": "code",
   "execution_count": 126,
   "metadata": {},
   "outputs": [],
   "source": [
    "df = df.drop(['FRESHVEG_FARMS07'], axis=1)"
   ]
  },
  {
   "cell_type": "code",
   "execution_count": 127,
   "metadata": {},
   "outputs": [],
   "source": [
    "df = df.drop(['FRESHVEG_FARMS12'], axis=1)"
   ]
  },
  {
   "cell_type": "code",
   "execution_count": 128,
   "metadata": {},
   "outputs": [],
   "source": [
    "df = df.drop(['PCH_FRESHVEG_FARMS_07_12'], axis=1)"
   ]
  },
  {
   "cell_type": "code",
   "execution_count": 129,
   "metadata": {},
   "outputs": [],
   "source": [
    "df = df.drop(['FRESHVEG_ACRES07'], axis=1)"
   ]
  },
  {
   "cell_type": "code",
   "execution_count": 130,
   "metadata": {},
   "outputs": [],
   "source": [
    "df = df.drop(['FRESHVEG_ACRES12'], axis=1)"
   ]
  },
  {
   "cell_type": "code",
   "execution_count": 131,
   "metadata": {},
   "outputs": [],
   "source": [
    "df = df.drop(['PCH_FRESHVEG_ACRES_07_12'], axis=1)"
   ]
  },
  {
   "cell_type": "code",
   "execution_count": 132,
   "metadata": {},
   "outputs": [],
   "source": [
    "df = df.drop(['PCH_FRESHVEG_ACRESPTH_07_12'], axis=1)"
   ]
  },
  {
   "cell_type": "code",
   "execution_count": 133,
   "metadata": {},
   "outputs": [],
   "source": [
    "df = df.drop(['ORCHARD_FARMS07'], axis=1)"
   ]
  },
  {
   "cell_type": "code",
   "execution_count": 134,
   "metadata": {},
   "outputs": [],
   "source": [
    "df = df.drop(['ORCHARD_FARMS12'], axis=1)"
   ]
  },
  {
   "cell_type": "code",
   "execution_count": 135,
   "metadata": {},
   "outputs": [],
   "source": [
    "df = df.drop(['PCH_ORCHARD_FARMS_07_12'], axis=1)"
   ]
  },
  {
   "cell_type": "code",
   "execution_count": 136,
   "metadata": {},
   "outputs": [],
   "source": [
    "df = df.drop(['ORCHARD_ACRES07'], axis=1)"
   ]
  },
  {
   "cell_type": "code",
   "execution_count": 137,
   "metadata": {},
   "outputs": [],
   "source": [
    "df = df.drop(['ORCHARD_ACRES12'], axis=1)"
   ]
  },
  {
   "cell_type": "code",
   "execution_count": 138,
   "metadata": {},
   "outputs": [],
   "source": [
    "df = df.drop(['PCH_ORCHARD_ACRES_07_12'], axis=1)"
   ]
  },
  {
   "cell_type": "code",
   "execution_count": 139,
   "metadata": {},
   "outputs": [],
   "source": [
    "df = df.drop(['PCH_ORCHARD_ACRESPTH_07_12'], axis=1)"
   ]
  },
  {
   "cell_type": "code",
   "execution_count": 140,
   "metadata": {},
   "outputs": [],
   "source": [
    "df = df.drop(['BERRY_FARMS07'], axis=1)"
   ]
  },
  {
   "cell_type": "code",
   "execution_count": 141,
   "metadata": {},
   "outputs": [],
   "source": [
    "df = df.drop(['BERRY_FARMS12'], axis=1)"
   ]
  },
  {
   "cell_type": "code",
   "execution_count": 142,
   "metadata": {},
   "outputs": [],
   "source": [
    "df = df.drop(['PCH_BERRY_FARMS_07_12'], axis=1)"
   ]
  },
  {
   "cell_type": "code",
   "execution_count": 143,
   "metadata": {},
   "outputs": [],
   "source": [
    "df = df.drop(['BERRY_ACRES07'], axis=1)"
   ]
  },
  {
   "cell_type": "code",
   "execution_count": 144,
   "metadata": {},
   "outputs": [],
   "source": [
    "df = df.drop(['BERRY_ACRES12'], axis=1)"
   ]
  },
  {
   "cell_type": "code",
   "execution_count": 145,
   "metadata": {},
   "outputs": [],
   "source": [
    "df = df.drop(['PCH_BERRY_ACRES_07_12'], axis=1)"
   ]
  },
  {
   "cell_type": "code",
   "execution_count": 146,
   "metadata": {},
   "outputs": [],
   "source": [
    "df = df.drop(['PCH_BERRY_ACRESPTH_07_12'], axis=1)"
   ]
  },
  {
   "cell_type": "code",
   "execution_count": 147,
   "metadata": {},
   "outputs": [],
   "source": [
    "df = df.drop(['SLHOUSE07'], axis=1)"
   ]
  },
  {
   "cell_type": "code",
   "execution_count": 148,
   "metadata": {},
   "outputs": [],
   "source": [
    "df = df.drop(['SLHOUSE12'], axis=1)"
   ]
  },
  {
   "cell_type": "code",
   "execution_count": 149,
   "metadata": {},
   "outputs": [],
   "source": [
    "df = df.drop(['PCH_SLHOUSE_07_12'], axis=1)"
   ]
  },
  {
   "cell_type": "code",
   "execution_count": 150,
   "metadata": {},
   "outputs": [],
   "source": [
    "df = df.drop(['GHVEG_FARMS07'], axis=1)"
   ]
  },
  {
   "cell_type": "code",
   "execution_count": 151,
   "metadata": {},
   "outputs": [],
   "source": [
    "df = df.drop(['GHVEG_FARMS12'], axis=1)"
   ]
  },
  {
   "cell_type": "code",
   "execution_count": 152,
   "metadata": {},
   "outputs": [],
   "source": [
    "df = df.drop(['PCH_GHVEG_FARMS_07_12'], axis=1)"
   ]
  },
  {
   "cell_type": "code",
   "execution_count": 153,
   "metadata": {},
   "outputs": [],
   "source": [
    "df = df.drop(['GHVEG_SQFT07'], axis=1)"
   ]
  },
  {
   "cell_type": "code",
   "execution_count": 154,
   "metadata": {},
   "outputs": [],
   "source": [
    "df = df.drop(['GHVEG_SQFT12'], axis=1)"
   ]
  },
  {
   "cell_type": "code",
   "execution_count": 155,
   "metadata": {},
   "outputs": [],
   "source": [
    "df = df.drop(['PCH_GHVEG_SQFT_07_12'], axis=1)"
   ]
  },
  {
   "cell_type": "code",
   "execution_count": 156,
   "metadata": {},
   "outputs": [],
   "source": [
    "df = df.drop(['PCH_GHVEG_SQFTPTH_07_12'], axis=1)"
   ]
  },
  {
   "cell_type": "code",
   "execution_count": 157,
   "metadata": {},
   "outputs": [],
   "source": [
    "df = df.drop(['FOODHUB16'], axis=1)"
   ]
  },
  {
   "cell_type": "code",
   "execution_count": 158,
   "metadata": {},
   "outputs": [],
   "source": [
    "df = df.drop(['CSA07'], axis=1)"
   ]
  },
  {
   "cell_type": "code",
   "execution_count": 159,
   "metadata": {},
   "outputs": [],
   "source": [
    "df = df.drop(['CSA12'], axis=1)"
   ]
  },
  {
   "cell_type": "code",
   "execution_count": 160,
   "metadata": {},
   "outputs": [],
   "source": [
    "df = df.drop(['PCH_CSA_07_12'], axis=1)"
   ]
  },
  {
   "cell_type": "code",
   "execution_count": 161,
   "metadata": {},
   "outputs": [],
   "source": [
    "df = df.drop(['AGRITRSM_OPS07'], axis=1)"
   ]
  },
  {
   "cell_type": "code",
   "execution_count": 162,
   "metadata": {},
   "outputs": [],
   "source": [
    "df = df.drop(['AGRITRSM_OPS12'], axis=1)"
   ]
  },
  {
   "cell_type": "code",
   "execution_count": 163,
   "metadata": {},
   "outputs": [],
   "source": [
    "df = df.drop(['PCH_AGRITRSM_OPS_07_12'], axis=1)"
   ]
  },
  {
   "cell_type": "code",
   "execution_count": 164,
   "metadata": {},
   "outputs": [],
   "source": [
    "df = df.drop(['AGRITRSM_RCT07'], axis=1)"
   ]
  },
  {
   "cell_type": "code",
   "execution_count": 165,
   "metadata": {},
   "outputs": [],
   "source": [
    "df = df.drop(['AGRITRSM_RCT12'], axis=1)"
   ]
  },
  {
   "cell_type": "code",
   "execution_count": 166,
   "metadata": {},
   "outputs": [],
   "source": [
    "df = df.drop(['PCH_AGRITRSM_RCT_07_12'], axis=1)"
   ]
  },
  {
   "cell_type": "code",
   "execution_count": 167,
   "metadata": {},
   "outputs": [
    {
     "name": "stdout",
     "output_type": "stream",
     "text": [
      "(3143, 30)\n"
     ]
    }
   ],
   "source": [
    "print(df.shape)"
   ]
  },
  {
   "cell_type": "code",
   "execution_count": 168,
   "metadata": {},
   "outputs": [
    {
     "data": {
      "text/plain": [
       "['FIPS',\n",
       " 'PCT_LOCLFARM07',\n",
       " 'PCT_LOCLFARM12',\n",
       " 'PCT_LOCLSALE07',\n",
       " 'PCT_LOCLSALE12',\n",
       " 'PC_DIRSALES07',\n",
       " 'PC_DIRSALES12',\n",
       " 'FMRKTPTH09',\n",
       " 'FMRKTPTH16',\n",
       " 'PCT_FMRKT_SNAP16',\n",
       " 'PCT_FMRKT_WIC16',\n",
       " 'PCT_FMRKT_WICCASH16',\n",
       " 'PCT_FMRKT_SFMNP16',\n",
       " 'PCT_FMRKT_CREDIT16',\n",
       " 'PCT_FMRKT_FRVEG16',\n",
       " 'PCT_FMRKT_ANMLPROD16',\n",
       " 'PCT_FMRKT_BAKED16',\n",
       " 'PCT_FMRKT_OTHERFOOD16',\n",
       " 'VEG_ACRESPTH07',\n",
       " 'VEG_ACRESPTH12',\n",
       " 'FRESHVEG_ACRESPTH07',\n",
       " 'FRESHVEG_ACRESPTH12',\n",
       " 'ORCHARD_ACRESPTH07',\n",
       " 'ORCHARD_ACRESPTH12',\n",
       " 'BERRY_ACRESPTH07',\n",
       " 'BERRY_ACRESPTH12',\n",
       " 'GHVEG_SQFTPTH07',\n",
       " 'GHVEG_SQFTPTH12',\n",
       " 'FARM_TO_SCHOOL09',\n",
       " 'FARM_TO_SCHOOL13']"
      ]
     },
     "execution_count": 168,
     "metadata": {},
     "output_type": "execute_result"
    }
   ],
   "source": [
    "list(df)"
   ]
  },
  {
   "cell_type": "code",
   "execution_count": 169,
   "metadata": {},
   "outputs": [
    {
     "data": {
      "text/plain": [
       "'\\nFIPS : int\\nPCT_LOCLFARM07 : float\\nPCT_LOCLFARM12 : float\\nPCT_LOCLSALE07 : float\\nPCT_LOCLSALE12 : float\\nPC_DIRSALES07 : float\\nPC_DIRSALES12 : float\\nFMRKTPTH09 : float\\nFMRKTPTH16 : float\\nPCT_FMRKT_SNAP16 : float\\nPCT_FMRKT_WIC16 : float\\nPCT_FMRKT_WICCASH16 : float\\nPCT_FMRKT_SFMNP16 : float\\nPCT_FMRKT_CREDIT16 : float\\nPCT_FMRKT_FRVEG16 : float\\nPCT_FMRKT_ANMLPROD16 : float\\nPCT_FMRKT_BAKED16 : float\\nPCT_FMRKT_OTHERFOOD16 : float\\nVEG_ACRESPTH07 : float\\nVEG_ACRESPTH12 : float\\nFRESHVEG_ACRESPTH07 : float\\nFRESHVEG_ACRESPTH12 : float\\nORCHARD_ACRESPTH07 : float\\nORCHARD_ACRESPTH12 : float\\nBERRY_ACRESPTH07 : float\\nBERRY_ACRESPTH12 : float\\nGHVEG_SQFTPTH07 : float\\nGHVEG_SQFTPTH12 : float\\nFARM_TO_SCHOOL09 : boolean\\nFARM_TO_SCHOOL13 : boolean\\n'"
      ]
     },
     "execution_count": 169,
     "metadata": {},
     "output_type": "execute_result"
    }
   ],
   "source": [
    "'''\n",
    "FIPS : int\n",
    "PCT_LOCLFARM07 : float\n",
    "PCT_LOCLFARM12 : float\n",
    "PCT_LOCLSALE07 : float\n",
    "PCT_LOCLSALE12 : float\n",
    "PC_DIRSALES07 : float\n",
    "PC_DIRSALES12 : float\n",
    "FMRKTPTH09 : float\n",
    "FMRKTPTH16 : float\n",
    "PCT_FMRKT_SNAP16 : float\n",
    "PCT_FMRKT_WIC16 : float\n",
    "PCT_FMRKT_WICCASH16 : float\n",
    "PCT_FMRKT_SFMNP16 : float\n",
    "PCT_FMRKT_CREDIT16 : float\n",
    "PCT_FMRKT_FRVEG16 : float\n",
    "PCT_FMRKT_ANMLPROD16 : float\n",
    "PCT_FMRKT_BAKED16 : float\n",
    "PCT_FMRKT_OTHERFOOD16 : float\n",
    "VEG_ACRESPTH07 : float\n",
    "VEG_ACRESPTH12 : float\n",
    "FRESHVEG_ACRESPTH07 : float\n",
    "FRESHVEG_ACRESPTH12 : float\n",
    "ORCHARD_ACRESPTH07 : float\n",
    "ORCHARD_ACRESPTH12 : float\n",
    "BERRY_ACRESPTH07 : float\n",
    "BERRY_ACRESPTH12 : float\n",
    "GHVEG_SQFTPTH07 : float\n",
    "GHVEG_SQFTPTH12 : float\n",
    "FARM_TO_SCHOOL09 : boolean\n",
    "FARM_TO_SCHOOL13 : boolean\n",
    "'''"
   ]
  },
  {
   "cell_type": "code",
   "execution_count": 170,
   "metadata": {},
   "outputs": [],
   "source": [
    "foolist = list()\n",
    "for i in range(100):\n",
    "    barlist = list()\n",
    "    foolist.append(barlist)"
   ]
  },
  {
   "cell_type": "code",
   "execution_count": 171,
   "metadata": {},
   "outputs": [],
   "source": [
    "for i in range(30):\n",
    "    foolist[i] = df[df.columns[i]].tolist()"
   ]
  },
  {
   "cell_type": "code",
   "execution_count": 172,
   "metadata": {},
   "outputs": [],
   "source": [
    "for i in [1, 2, 3, 4, 5, 6, 7, 8, 9, 10, 11, 12, 13, 14, 15, 16, 17, 18, 19, 20, 21, 22, 23, 24, 25, 26, 27]:\n",
    "    #foo.float_check(foolist[i])\n",
    "    foo.float_nan_filled(foolist[i])"
   ]
  },
  {
   "cell_type": "code",
   "execution_count": 173,
   "metadata": {},
   "outputs": [],
   "source": [
    "for i in [28, 29]:\n",
    "    #foo.bool_check(foolist[i])\n",
    "    foo.bool_filled(foolist[i])"
   ]
  },
  {
   "cell_type": "code",
   "execution_count": 174,
   "metadata": {},
   "outputs": [],
   "source": [
    "se1 = pd.Series(foolist[1])\n",
    "se2 = pd.Series(foolist[2])\n",
    "se3 = pd.Series(foolist[3])\n",
    "se4 = pd.Series(foolist[4])\n",
    "se5 = pd.Series(foolist[5])\n",
    "se6 = pd.Series(foolist[6])\n",
    "se7 = pd.Series(foolist[7])\n",
    "se8 = pd.Series(foolist[8])\n",
    "se9 = pd.Series(foolist[9])\n",
    "se10 = pd.Series(foolist[10])\n",
    "se11 = pd.Series(foolist[11])\n",
    "se12 = pd.Series(foolist[12])\n",
    "se13 = pd.Series(foolist[13])\n",
    "se14 = pd.Series(foolist[14])\n",
    "se15 = pd.Series(foolist[15])\n",
    "se16 = pd.Series(foolist[16])\n",
    "se17 = pd.Series(foolist[17])\n",
    "se18 = pd.Series(foolist[18])\n",
    "se19 = pd.Series(foolist[19])\n",
    "se20 = pd.Series(foolist[20])\n",
    "se21 = pd.Series(foolist[21])\n",
    "se22 = pd.Series(foolist[22])\n",
    "se23 = pd.Series(foolist[23])\n",
    "se24 = pd.Series(foolist[24])\n",
    "se25 = pd.Series(foolist[25])\n",
    "se26 = pd.Series(foolist[26])\n",
    "se27 = pd.Series(foolist[27])\n",
    "se28 = pd.Series(foolist[28])\n",
    "se29 = pd.Series(foolist[29])"
   ]
  },
  {
   "cell_type": "code",
   "execution_count": 175,
   "metadata": {},
   "outputs": [],
   "source": [
    "df['PCT_LOCLFARM07'] = se1.values\n",
    "df['PCT_LOCLFARM12'] = se2.values\n",
    "df['PCT_LOCLSALE07'] = se3.values\n",
    "df['PCT_LOCLSALE12'] = se4.values\n",
    "df['PC_DIRSALES07'] = se5.values\n",
    "df['PC_DIRSALES12'] = se6.values\n",
    "df['FMRKTPTH09'] = se7.values\n",
    "df['FMRKTPTH16'] = se8.values\n",
    "df['PCT_FMRKT_SNAP16'] = se9.values\n",
    "df['PCT_FMRKT_WIC16'] = se10.values\n",
    "df['PCT_FMRKT_WICCASH16'] = se11.values\n",
    "df['PCT_FMRKT_SFMNP16'] = se12.values\n",
    "df['PCT_FMRKT_CREDIT16'] = se13.values\n",
    "df['PCT_FMRKT_FRVEG16'] = se14.values\n",
    "df['PCT_FMRKT_ANMLPROD16'] = se15.values\n",
    "df['PCT_FMRKT_BAKED16'] = se16.values\n",
    "df['PCT_FMRKT_OTHERFOOD16'] = se17.values\n",
    "df['VEG_ACRESPTH07'] = se18.values\n",
    "df['VEG_ACRESPTH12'] = se19.values\n",
    "df['FRESHVEG_ACRESPTH07'] = se20.values\n",
    "df['FRESHVEG_ACRESPTH12'] = se21.values\n",
    "df['ORCHARD_ACRESPTH07'] = se22.values\n",
    "df['ORCHARD_ACRESPTH12'] = se23.values\n",
    "df['BERRY_ACRESPTH07'] = se24.values\n",
    "df['BERRY_ACRESPTH12'] = se25.values\n",
    "df['GHVEG_SQFTPTH07'] = se26.values\n",
    "df['GHVEG_SQFTPTH12'] = se27.values\n",
    "df['FARM_TO_SCHOOL09'] = se28.values\n",
    "df['FARM_TO_SCHOOL13'] = se29.values"
   ]
  },
  {
   "cell_type": "code",
   "execution_count": 176,
   "metadata": {},
   "outputs": [],
   "source": [
    "df.to_csv('PROCESSED_LOCAL.csv', index=False)"
   ]
  },
  {
   "cell_type": "code",
   "execution_count": null,
   "metadata": {},
   "outputs": [],
   "source": []
  }
 ],
 "metadata": {
  "kernelspec": {
   "display_name": "Python 3",
   "language": "python",
   "name": "python3"
  },
  "language_info": {
   "codemirror_mode": {
    "name": "ipython",
    "version": 3
   },
   "file_extension": ".py",
   "mimetype": "text/x-python",
   "name": "python",
   "nbconvert_exporter": "python",
   "pygments_lexer": "ipython3",
   "version": "3.5.2"
  }
 },
 "nbformat": 4,
 "nbformat_minor": 2
}
