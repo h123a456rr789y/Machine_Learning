{
 "cells": [
  {
   "cell_type": "code",
   "execution_count": 1,
   "metadata": {},
   "outputs": [],
   "source": [
    "import numpy as np\n",
    "import scipy\n",
    "import pandas as pd\n",
    "from scipy.stats import linregress\n",
    "import matplotlib.pyplot as plt\n",
    "from sklearn import datasets, linear_model\n",
    "from sklearn.metrics import mean_squared_error, r2_score\n",
    "from sklearn.decomposition import PCA\n",
    "from sklearn.feature_selection import VarianceThreshold\n",
    "from sklearn.feature_selection import SelectKBest\n",
    "from sklearn.feature_selection import chi2\n",
    "from sklearn.svm import LinearSVC\n",
    "from sklearn.feature_selection import SelectFromModel\n",
    "\n",
    "# self defined function\n",
    "import def_function as foo"
   ]
  },
  {
   "cell_type": "code",
   "execution_count": 2,
   "metadata": {},
   "outputs": [],
   "source": [
    "df = pd.read_csv('STORES.csv')"
   ]
  },
  {
   "cell_type": "code",
   "execution_count": 3,
   "metadata": {},
   "outputs": [
    {
     "name": "stdout",
     "output_type": "stream",
     "text": [
      "(3143, 40)\n"
     ]
    }
   ],
   "source": [
    "print(df.shape)"
   ]
  },
  {
   "cell_type": "code",
   "execution_count": 4,
   "metadata": {},
   "outputs": [
    {
     "data": {
      "text/plain": [
       "['Unnamed: 0',\n",
       " 'FIPS',\n",
       " 'State',\n",
       " 'County',\n",
       " 'GROC09',\n",
       " 'GROC14',\n",
       " 'PCH_GROC_09_14',\n",
       " 'GROCPTH09',\n",
       " 'GROCPTH14',\n",
       " 'PCH_GROCPTH_09_14',\n",
       " 'SUPERC09',\n",
       " 'SUPERC14',\n",
       " 'PCH_SUPERC_09_14',\n",
       " 'SUPERCPTH09',\n",
       " 'SUPERCPTH14',\n",
       " 'PCH_SUPERCPTH_09_14',\n",
       " 'CONVS09',\n",
       " 'CONVS14',\n",
       " 'PCH_CONVS_09_14',\n",
       " 'CONVSPTH09',\n",
       " 'CONVSPTH14',\n",
       " 'PCH_CONVSPTH_09_14',\n",
       " 'SPECS09',\n",
       " 'SPECS14',\n",
       " 'PCH_SPECS_09_14',\n",
       " 'SPECSPTH09',\n",
       " 'SPECSPTH14',\n",
       " 'PCH_SPECSPTH_09_14',\n",
       " 'SNAPS12',\n",
       " 'SNAPS16',\n",
       " 'PCH_SNAPS_12_16',\n",
       " 'SNAPSPTH12',\n",
       " 'SNAPSPTH16',\n",
       " 'PCH_SNAPSPTH_12_16',\n",
       " 'WICS08',\n",
       " 'WICS12',\n",
       " 'PCH_WICS_08_12',\n",
       " 'WICSPTH08',\n",
       " 'WICSPTH12',\n",
       " 'PCH_WICSPTH_08_12']"
      ]
     },
     "execution_count": 4,
     "metadata": {},
     "output_type": "execute_result"
    }
   ],
   "source": [
    "list(df)"
   ]
  },
  {
   "cell_type": "code",
   "execution_count": 5,
   "metadata": {},
   "outputs": [],
   "source": [
    "df = df.drop(['Unnamed: 0'], axis=1)"
   ]
  },
  {
   "cell_type": "code",
   "execution_count": 6,
   "metadata": {},
   "outputs": [],
   "source": [
    "df = df.drop(['State'], axis=1)"
   ]
  },
  {
   "cell_type": "code",
   "execution_count": 7,
   "metadata": {},
   "outputs": [],
   "source": [
    "df = df.drop(['County'], axis=1)"
   ]
  },
  {
   "cell_type": "code",
   "execution_count": 8,
   "metadata": {},
   "outputs": [],
   "source": [
    "df = df.drop(['GROC09'], axis=1)"
   ]
  },
  {
   "cell_type": "code",
   "execution_count": 9,
   "metadata": {},
   "outputs": [],
   "source": [
    "df = df.drop(['GROC14'], axis=1)"
   ]
  },
  {
   "cell_type": "code",
   "execution_count": 10,
   "metadata": {},
   "outputs": [],
   "source": [
    "df = df.drop(['PCH_GROC_09_14'], axis=1)"
   ]
  },
  {
   "cell_type": "code",
   "execution_count": 11,
   "metadata": {},
   "outputs": [],
   "source": [
    "df = df.drop(['PCH_GROCPTH_09_14'], axis=1)"
   ]
  },
  {
   "cell_type": "code",
   "execution_count": 12,
   "metadata": {},
   "outputs": [],
   "source": [
    "df = df.drop(['SUPERC09'], axis=1)"
   ]
  },
  {
   "cell_type": "code",
   "execution_count": 13,
   "metadata": {},
   "outputs": [],
   "source": [
    "df = df.drop(['SUPERC14'], axis=1)"
   ]
  },
  {
   "cell_type": "code",
   "execution_count": 14,
   "metadata": {},
   "outputs": [],
   "source": [
    "df = df.drop(['PCH_SUPERC_09_14'], axis=1)"
   ]
  },
  {
   "cell_type": "code",
   "execution_count": 15,
   "metadata": {},
   "outputs": [],
   "source": [
    "df = df.drop(['PCH_SUPERCPTH_09_14'], axis=1)"
   ]
  },
  {
   "cell_type": "code",
   "execution_count": 16,
   "metadata": {},
   "outputs": [],
   "source": [
    "df = df.drop(['CONVS09'], axis=1)"
   ]
  },
  {
   "cell_type": "code",
   "execution_count": 17,
   "metadata": {},
   "outputs": [],
   "source": [
    "df = df.drop(['CONVS14'], axis=1)"
   ]
  },
  {
   "cell_type": "code",
   "execution_count": 18,
   "metadata": {},
   "outputs": [],
   "source": [
    "df = df.drop(['PCH_CONVS_09_14'], axis=1)"
   ]
  },
  {
   "cell_type": "code",
   "execution_count": 19,
   "metadata": {},
   "outputs": [],
   "source": [
    "df = df.drop(['PCH_CONVSPTH_09_14'], axis=1)"
   ]
  },
  {
   "cell_type": "code",
   "execution_count": 20,
   "metadata": {},
   "outputs": [],
   "source": [
    "df = df.drop(['SPECS09'], axis=1)"
   ]
  },
  {
   "cell_type": "code",
   "execution_count": 21,
   "metadata": {},
   "outputs": [],
   "source": [
    "df = df.drop(['SPECS14'], axis=1)"
   ]
  },
  {
   "cell_type": "code",
   "execution_count": 22,
   "metadata": {},
   "outputs": [],
   "source": [
    "df = df.drop(['PCH_SPECS_09_14'], axis=1)"
   ]
  },
  {
   "cell_type": "code",
   "execution_count": 23,
   "metadata": {},
   "outputs": [],
   "source": [
    "df = df.drop(['PCH_SPECSPTH_09_14'], axis=1)"
   ]
  },
  {
   "cell_type": "code",
   "execution_count": 24,
   "metadata": {},
   "outputs": [],
   "source": [
    "df = df.drop(['SNAPS12'], axis=1)"
   ]
  },
  {
   "cell_type": "code",
   "execution_count": 25,
   "metadata": {},
   "outputs": [],
   "source": [
    "df = df.drop(['SNAPS16'], axis=1)"
   ]
  },
  {
   "cell_type": "code",
   "execution_count": 26,
   "metadata": {},
   "outputs": [],
   "source": [
    "df = df.drop(['PCH_SNAPS_12_16'], axis=1)"
   ]
  },
  {
   "cell_type": "code",
   "execution_count": 27,
   "metadata": {},
   "outputs": [],
   "source": [
    "df = df.drop(['PCH_SNAPSPTH_12_16'], axis=1)"
   ]
  },
  {
   "cell_type": "code",
   "execution_count": 28,
   "metadata": {},
   "outputs": [],
   "source": [
    "df = df.drop(['WICS08'], axis=1)"
   ]
  },
  {
   "cell_type": "code",
   "execution_count": 29,
   "metadata": {},
   "outputs": [],
   "source": [
    "df = df.drop(['WICS12'], axis=1)"
   ]
  },
  {
   "cell_type": "code",
   "execution_count": 30,
   "metadata": {},
   "outputs": [],
   "source": [
    "df = df.drop(['PCH_WICS_08_12'], axis=1)"
   ]
  },
  {
   "cell_type": "code",
   "execution_count": 31,
   "metadata": {},
   "outputs": [],
   "source": [
    "df = df.drop(['PCH_WICSPTH_08_12'], axis=1)"
   ]
  },
  {
   "cell_type": "code",
   "execution_count": 32,
   "metadata": {},
   "outputs": [
    {
     "name": "stdout",
     "output_type": "stream",
     "text": [
      "(3143, 13)\n"
     ]
    }
   ],
   "source": [
    "print(df.shape)"
   ]
  },
  {
   "cell_type": "code",
   "execution_count": 33,
   "metadata": {},
   "outputs": [
    {
     "data": {
      "text/plain": [
       "['FIPS',\n",
       " 'GROCPTH09',\n",
       " 'GROCPTH14',\n",
       " 'SUPERCPTH09',\n",
       " 'SUPERCPTH14',\n",
       " 'CONVSPTH09',\n",
       " 'CONVSPTH14',\n",
       " 'SPECSPTH09',\n",
       " 'SPECSPTH14',\n",
       " 'SNAPSPTH12',\n",
       " 'SNAPSPTH16',\n",
       " 'WICSPTH08',\n",
       " 'WICSPTH12']"
      ]
     },
     "execution_count": 33,
     "metadata": {},
     "output_type": "execute_result"
    }
   ],
   "source": [
    "list(df)"
   ]
  },
  {
   "cell_type": "code",
   "execution_count": 34,
   "metadata": {},
   "outputs": [
    {
     "data": {
      "text/plain": [
       "'\\nFIPS : int\\nGROCPTH09 : float\\nGROCPTH14 : float\\nSUPERCPTH09 : float\\nSUPERCPTH14 : float\\nCONVSPTH09 : float\\nCONVSPTH14 : float\\nSPECSPTH09 : float\\nSPECSPTH14 : float\\nSNAPSPTH12 : float\\nSNAPSPTH16 : float\\nWICSPTH08 : float\\nWICSPTH12 : float\\n'"
      ]
     },
     "execution_count": 34,
     "metadata": {},
     "output_type": "execute_result"
    }
   ],
   "source": [
    "'''\n",
    "FIPS : int\n",
    "GROCPTH09 : float\n",
    "GROCPTH14 : float\n",
    "SUPERCPTH09 : float\n",
    "SUPERCPTH14 : float\n",
    "CONVSPTH09 : float\n",
    "CONVSPTH14 : float\n",
    "SPECSPTH09 : float\n",
    "SPECSPTH14 : float\n",
    "SNAPSPTH12 : float\n",
    "SNAPSPTH16 : float\n",
    "WICSPTH08 : float\n",
    "WICSPTH12 : float\n",
    "'''"
   ]
  },
  {
   "cell_type": "code",
   "execution_count": 35,
   "metadata": {},
   "outputs": [],
   "source": [
    "foolist = list()\n",
    "for i in range(100):\n",
    "    barlist = list()\n",
    "    foolist.append(barlist)"
   ]
  },
  {
   "cell_type": "code",
   "execution_count": 36,
   "metadata": {},
   "outputs": [],
   "source": [
    "for i in range(13):\n",
    "    foolist[i] = df[df.columns[i]].tolist()"
   ]
  },
  {
   "cell_type": "code",
   "execution_count": 38,
   "metadata": {},
   "outputs": [],
   "source": [
    "for i in [1, 2, 3, 4, 5, 6, 7, 8, 9, 10, 11, 12]:\n",
    "    #foo.float_check(foolist[i])\n",
    "    foo.float_nan_filled(foolist[i])"
   ]
  },
  {
   "cell_type": "code",
   "execution_count": 39,
   "metadata": {},
   "outputs": [],
   "source": [
    "se1 = pd.Series(foolist[1])\n",
    "se2 = pd.Series(foolist[2])\n",
    "se3 = pd.Series(foolist[3])\n",
    "se4 = pd.Series(foolist[4])\n",
    "se5 = pd.Series(foolist[5])\n",
    "se6 = pd.Series(foolist[6])\n",
    "se7 = pd.Series(foolist[7])\n",
    "se8 = pd.Series(foolist[8])\n",
    "se9 = pd.Series(foolist[9])\n",
    "se10 = pd.Series(foolist[10])\n",
    "se11 = pd.Series(foolist[11])\n",
    "se12 = pd.Series(foolist[12])"
   ]
  },
  {
   "cell_type": "code",
   "execution_count": 40,
   "metadata": {},
   "outputs": [],
   "source": [
    "df['GROCPTH09'] = se1.values\n",
    "df['GROCPTH14'] = se2.values\n",
    "df['SUPERCPTH09'] = se3.values\n",
    "df['SUPERCPTH14'] = se4.values\n",
    "df['CONVSPTH09'] = se5.values\n",
    "df['CONVSPTH14'] = se6.values\n",
    "df['SPECSPTH09'] = se7.values\n",
    "df['SPECSPTH14'] = se8.values\n",
    "df['SNAPSPTH12'] = se9.values\n",
    "df['SNAPSPTH16'] = se10.values\n",
    "df['WICSPTH08'] = se11.values\n",
    "df['WICSPTH12'] = se12.values"
   ]
  },
  {
   "cell_type": "code",
   "execution_count": 41,
   "metadata": {},
   "outputs": [],
   "source": [
    "df.to_csv('PROCESSED_STORES.csv', index=False)"
   ]
  },
  {
   "cell_type": "code",
   "execution_count": null,
   "metadata": {},
   "outputs": [],
   "source": []
  }
 ],
 "metadata": {
  "kernelspec": {
   "display_name": "Python 3",
   "language": "python",
   "name": "python3"
  },
  "language_info": {
   "codemirror_mode": {
    "name": "ipython",
    "version": 3
   },
   "file_extension": ".py",
   "mimetype": "text/x-python",
   "name": "python",
   "nbconvert_exporter": "python",
   "pygments_lexer": "ipython3",
   "version": "3.5.2"
  }
 },
 "nbformat": 4,
 "nbformat_minor": 2
}
