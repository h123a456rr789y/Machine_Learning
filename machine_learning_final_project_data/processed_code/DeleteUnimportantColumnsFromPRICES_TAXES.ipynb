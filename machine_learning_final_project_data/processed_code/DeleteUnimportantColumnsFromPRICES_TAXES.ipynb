{
 "cells": [
  {
   "cell_type": "code",
   "execution_count": 1,
   "metadata": {},
   "outputs": [],
   "source": [
    "import numpy as np\n",
    "import scipy\n",
    "import pandas as pd\n",
    "from scipy.stats import linregress\n",
    "import matplotlib.pyplot as plt\n",
    "from sklearn import datasets, linear_model\n",
    "from sklearn.metrics import mean_squared_error, r2_score\n",
    "from sklearn.decomposition import PCA\n",
    "from sklearn.feature_selection import VarianceThreshold\n",
    "from sklearn.feature_selection import SelectKBest\n",
    "from sklearn.feature_selection import chi2\n",
    "from sklearn.svm import LinearSVC\n",
    "from sklearn.feature_selection import SelectFromModel\n",
    "# self defined function\n",
    "import def_function as foo"
   ]
  },
  {
   "cell_type": "code",
   "execution_count": 2,
   "metadata": {},
   "outputs": [],
   "source": [
    "df = pd.read_csv('PRICES_TAXES.csv')"
   ]
  },
  {
   "cell_type": "code",
   "execution_count": 3,
   "metadata": {},
   "outputs": [],
   "source": [
    "# THE WHOLE DATA IS POTENTIALLY USEFUL, NO NEED TO DELETE ANY COLUMNS"
   ]
  },
  {
   "cell_type": "code",
   "execution_count": 4,
   "metadata": {},
   "outputs": [],
   "source": [
    "df = df.drop(['Unnamed: 0'], axis=1)"
   ]
  },
  {
   "cell_type": "code",
   "execution_count": 5,
   "metadata": {},
   "outputs": [],
   "source": [
    "df = df.drop(['State'], axis=1)"
   ]
  },
  {
   "cell_type": "code",
   "execution_count": 6,
   "metadata": {},
   "outputs": [],
   "source": [
    "df = df.drop(['County'], axis=1)"
   ]
  },
  {
   "cell_type": "code",
   "execution_count": 7,
   "metadata": {},
   "outputs": [
    {
     "name": "stdout",
     "output_type": "stream",
     "text": [
      "(3143, 9)\n"
     ]
    }
   ],
   "source": [
    "print(df.shape)"
   ]
  },
  {
   "cell_type": "code",
   "execution_count": 8,
   "metadata": {},
   "outputs": [
    {
     "data": {
      "text/plain": [
       "['FIPS',\n",
       " 'MILK_PRICE10',\n",
       " 'SODA_PRICE10',\n",
       " 'MILK_SODA_PRICE10',\n",
       " 'SODATAX_STORES14',\n",
       " 'SODATAX_VENDM14',\n",
       " 'CHIPSTAX_STORES14',\n",
       " 'CHIPSTAX_VENDM14',\n",
       " 'FOOD_TAX14']"
      ]
     },
     "execution_count": 8,
     "metadata": {},
     "output_type": "execute_result"
    }
   ],
   "source": [
    "list(df)"
   ]
  },
  {
   "cell_type": "code",
   "execution_count": 9,
   "metadata": {},
   "outputs": [
    {
     "data": {
      "text/plain": [
       "'\\nFIPS : int\\nMILK_PRICE10 : float\\nSODA_PRICE10 : float\\nMILK_SODA_PRICE10 : float\\nSODATAX_STORES14 : float\\nSODATAX_VENDM14 : float\\nCHIPSTAX_STORES14 : float\\nCHIPSTAX_VENDM14 : float\\nFOOD_TAX14 : float\\n'"
      ]
     },
     "execution_count": 9,
     "metadata": {},
     "output_type": "execute_result"
    }
   ],
   "source": [
    "'''\n",
    "FIPS : int\n",
    "MILK_PRICE10 : float\n",
    "SODA_PRICE10 : float\n",
    "MILK_SODA_PRICE10 : float\n",
    "SODATAX_STORES14 : float\n",
    "SODATAX_VENDM14 : float\n",
    "CHIPSTAX_STORES14 : float\n",
    "CHIPSTAX_VENDM14 : float\n",
    "FOOD_TAX14 : float\n",
    "'''"
   ]
  },
  {
   "cell_type": "code",
   "execution_count": 10,
   "metadata": {},
   "outputs": [],
   "source": [
    "foolist = list()\n",
    "for i in range(100):\n",
    "    barlist = list()\n",
    "    foolist.append(barlist)"
   ]
  },
  {
   "cell_type": "code",
   "execution_count": 11,
   "metadata": {},
   "outputs": [],
   "source": [
    "for i in [1, 2, 3, 4, 5, 6, 7, 8]:\n",
    "    foolist[i] = df[df.columns[i]].tolist()"
   ]
  },
  {
   "cell_type": "code",
   "execution_count": 14,
   "metadata": {},
   "outputs": [],
   "source": [
    "for i in [1, 2, 3, 4, 5, 6, 7, 8]:\n",
    "    #foo.float_check(foolist[i])\n",
    "    foo.float_nan_filled(foolist[i])"
   ]
  },
  {
   "cell_type": "code",
   "execution_count": 15,
   "metadata": {},
   "outputs": [],
   "source": [
    "se1 = pd.Series(foolist[1])\n",
    "se2 = pd.Series(foolist[2])\n",
    "se3 = pd.Series(foolist[3])\n",
    "se4 = pd.Series(foolist[4])\n",
    "se5 = pd.Series(foolist[5])\n",
    "se6 = pd.Series(foolist[6])\n",
    "se7 = pd.Series(foolist[7])\n",
    "se8 = pd.Series(foolist[8])"
   ]
  },
  {
   "cell_type": "code",
   "execution_count": 16,
   "metadata": {},
   "outputs": [],
   "source": [
    "df['MILK_PRICE10'] = se1.values\n",
    "df['SODA_PRICE10'] = se2.values\n",
    "df['MILK_SODA_PRICE10'] = se3.values\n",
    "df['SODATAX_STORES14'] = se4.values\n",
    "df['SODATAX_VENDM14'] = se5.values\n",
    "df['CHIPSTAX_STORES14'] = se6.values\n",
    "df['CHIPSTAX_VENDM14'] = se7.values\n",
    "df['FOOD_TAX14'] = se8.values"
   ]
  },
  {
   "cell_type": "code",
   "execution_count": 17,
   "metadata": {},
   "outputs": [],
   "source": [
    "df.to_csv('PROCESSED_PRICES_TAXES.csv', index=False)"
   ]
  },
  {
   "cell_type": "code",
   "execution_count": null,
   "metadata": {},
   "outputs": [],
   "source": []
  }
 ],
 "metadata": {
  "kernelspec": {
   "display_name": "Python 3",
   "language": "python",
   "name": "python3"
  },
  "language_info": {
   "codemirror_mode": {
    "name": "ipython",
    "version": 3
   },
   "file_extension": ".py",
   "mimetype": "text/x-python",
   "name": "python",
   "nbconvert_exporter": "python",
   "pygments_lexer": "ipython3",
   "version": "3.5.2"
  }
 },
 "nbformat": 4,
 "nbformat_minor": 2
}
