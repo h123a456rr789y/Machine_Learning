{
 "cells": [
  {
   "cell_type": "code",
   "execution_count": 2,
   "metadata": {},
   "outputs": [],
   "source": [
    "import numpy as np\n",
    "import scipy\n",
    "import pandas as pd\n",
    "from scipy.stats import linregress\n",
    "import matplotlib.pyplot as plt\n",
    "from sklearn import datasets, linear_model\n",
    "from sklearn.metrics import mean_squared_error, r2_score\n",
    "from sklearn.decomposition import PCA\n",
    "from sklearn.feature_selection import VarianceThreshold\n",
    "from sklearn.feature_selection import SelectKBest\n",
    "from sklearn.feature_selection import chi2\n",
    "from sklearn.svm import LinearSVC\n",
    "from sklearn.feature_selection import SelectFromModel\n",
    "\n",
    "# self defined function\n",
    "import def_function as foo"
   ]
  },
  {
   "cell_type": "code",
   "execution_count": 3,
   "metadata": {},
   "outputs": [],
   "source": [
    "df = pd.read_csv('ASSISTANCE.csv')"
   ]
  },
  {
   "cell_type": "code",
   "execution_count": 4,
   "metadata": {},
   "outputs": [
    {
     "name": "stdout",
     "output_type": "stream",
     "text": [
      "(3143, 49)\n"
     ]
    }
   ],
   "source": [
    "print(df.shape)"
   ]
  },
  {
   "cell_type": "code",
   "execution_count": 5,
   "metadata": {},
   "outputs": [
    {
     "data": {
      "text/plain": [
       "['Unnamed: 0',\n",
       " 'FIPS',\n",
       " 'State',\n",
       " 'County',\n",
       " 'REDEMP_SNAPS12',\n",
       " 'REDEMP_SNAPS16',\n",
       " 'PCH_REDEMP_SNAPS_12_16',\n",
       " 'PCT_SNAP12',\n",
       " 'PCT_SNAP16',\n",
       " 'PCH_SNAP_12_16',\n",
       " 'PC_SNAPBEN10',\n",
       " 'PC_SNAPBEN15',\n",
       " 'PCH_PC_SNAPBEN_10_15',\n",
       " 'SNAP_PART_RATE08',\n",
       " 'SNAP_PART_RATE13',\n",
       " 'SNAP_OAPP09',\n",
       " 'SNAP_OAPP16',\n",
       " 'SNAP_CAP09',\n",
       " 'SNAP_CAP16',\n",
       " 'SNAP_BBCE09',\n",
       " 'SNAP_BBCE16',\n",
       " 'SNAP_REPORTSIMPLE09',\n",
       " 'SNAP_REPORTSIMPLE16',\n",
       " 'PCT_NSLP09',\n",
       " 'PCT_NSLP15',\n",
       " 'PCH_NSLP_09_15',\n",
       " 'PCT_FREE_LUNCH09',\n",
       " 'PCT_FREE_LUNCH14',\n",
       " 'PCT_REDUCED_LUNCH09',\n",
       " 'PCT_REDUCED_LUNCH14',\n",
       " 'PCT_SBP09',\n",
       " 'PCT_SBP15',\n",
       " 'PCH_SBP_09_15',\n",
       " 'PCT_SFSP09',\n",
       " 'PCT_SFSP15',\n",
       " 'PCH_SFSP_09_15',\n",
       " 'PC_WIC_REDEMP08',\n",
       " 'PC_WIC_REDEMP12',\n",
       " 'PCH_PC_WIC_REDEMP_08_12',\n",
       " 'REDEMP_WICS08',\n",
       " 'REDEMP_WICS12',\n",
       " 'PCH_REDEMP_WICS_08_12',\n",
       " 'PCT_WIC09',\n",
       " 'PCT_WIC15',\n",
       " 'PCH_WIC_09_15',\n",
       " 'PCT_CACFP09',\n",
       " 'PCT_CACFP15',\n",
       " 'PCH_CACFP_09_15',\n",
       " 'FDPIR12']"
      ]
     },
     "execution_count": 5,
     "metadata": {},
     "output_type": "execute_result"
    }
   ],
   "source": [
    "list(df)"
   ]
  },
  {
   "cell_type": "code",
   "execution_count": 6,
   "metadata": {},
   "outputs": [],
   "source": [
    "df = df.drop(['Unnamed: 0'], axis=1)"
   ]
  },
  {
   "cell_type": "code",
   "execution_count": 7,
   "metadata": {},
   "outputs": [],
   "source": [
    "df = df.drop(['State'], axis=1)"
   ]
  },
  {
   "cell_type": "code",
   "execution_count": 8,
   "metadata": {},
   "outputs": [],
   "source": [
    "df = df.drop(['County'], axis=1)"
   ]
  },
  {
   "cell_type": "code",
   "execution_count": 9,
   "metadata": {},
   "outputs": [],
   "source": [
    "df = df.drop(['PCH_SNAP_12_16'], axis=1)"
   ]
  },
  {
   "cell_type": "code",
   "execution_count": 10,
   "metadata": {},
   "outputs": [],
   "source": [
    "df = df.drop(['PCH_REDEMP_SNAPS_12_16'], axis=1)"
   ]
  },
  {
   "cell_type": "code",
   "execution_count": 11,
   "metadata": {},
   "outputs": [],
   "source": [
    "df = df.drop(['PCH_PC_SNAPBEN_10_15'], axis=1)"
   ]
  },
  {
   "cell_type": "code",
   "execution_count": 12,
   "metadata": {},
   "outputs": [],
   "source": [
    "df = df.drop(['PCH_PC_WIC_REDEMP_08_12'], axis=1)"
   ]
  },
  {
   "cell_type": "code",
   "execution_count": 13,
   "metadata": {},
   "outputs": [],
   "source": [
    "df = df.drop(['PCH_REDEMP_WICS_08_12'], axis=1)"
   ]
  },
  {
   "cell_type": "code",
   "execution_count": 14,
   "metadata": {},
   "outputs": [],
   "source": [
    "df = df.drop(['PCH_WIC_09_15'], axis=1)"
   ]
  },
  {
   "cell_type": "code",
   "execution_count": 15,
   "metadata": {},
   "outputs": [],
   "source": [
    "df = df.drop(['PCH_CACFP_09_15'], axis=1)"
   ]
  },
  {
   "cell_type": "code",
   "execution_count": 16,
   "metadata": {},
   "outputs": [],
   "source": [
    "df = df.drop(['PCH_NSLP_09_15'], axis=1)"
   ]
  },
  {
   "cell_type": "code",
   "execution_count": 17,
   "metadata": {},
   "outputs": [],
   "source": [
    "df = df.drop(['PCH_SBP_09_15'], axis=1)"
   ]
  },
  {
   "cell_type": "code",
   "execution_count": 18,
   "metadata": {},
   "outputs": [],
   "source": [
    "df = df.drop(['PCH_SFSP_09_15'], axis=1)"
   ]
  },
  {
   "cell_type": "code",
   "execution_count": 19,
   "metadata": {},
   "outputs": [
    {
     "name": "stdout",
     "output_type": "stream",
     "text": [
      "(3143, 36)\n"
     ]
    }
   ],
   "source": [
    "print(df.shape)"
   ]
  },
  {
   "cell_type": "code",
   "execution_count": 20,
   "metadata": {},
   "outputs": [
    {
     "data": {
      "text/plain": [
       "['FIPS',\n",
       " 'REDEMP_SNAPS12',\n",
       " 'REDEMP_SNAPS16',\n",
       " 'PCT_SNAP12',\n",
       " 'PCT_SNAP16',\n",
       " 'PC_SNAPBEN10',\n",
       " 'PC_SNAPBEN15',\n",
       " 'SNAP_PART_RATE08',\n",
       " 'SNAP_PART_RATE13',\n",
       " 'SNAP_OAPP09',\n",
       " 'SNAP_OAPP16',\n",
       " 'SNAP_CAP09',\n",
       " 'SNAP_CAP16',\n",
       " 'SNAP_BBCE09',\n",
       " 'SNAP_BBCE16',\n",
       " 'SNAP_REPORTSIMPLE09',\n",
       " 'SNAP_REPORTSIMPLE16',\n",
       " 'PCT_NSLP09',\n",
       " 'PCT_NSLP15',\n",
       " 'PCT_FREE_LUNCH09',\n",
       " 'PCT_FREE_LUNCH14',\n",
       " 'PCT_REDUCED_LUNCH09',\n",
       " 'PCT_REDUCED_LUNCH14',\n",
       " 'PCT_SBP09',\n",
       " 'PCT_SBP15',\n",
       " 'PCT_SFSP09',\n",
       " 'PCT_SFSP15',\n",
       " 'PC_WIC_REDEMP08',\n",
       " 'PC_WIC_REDEMP12',\n",
       " 'REDEMP_WICS08',\n",
       " 'REDEMP_WICS12',\n",
       " 'PCT_WIC09',\n",
       " 'PCT_WIC15',\n",
       " 'PCT_CACFP09',\n",
       " 'PCT_CACFP15',\n",
       " 'FDPIR12']"
      ]
     },
     "execution_count": 20,
     "metadata": {},
     "output_type": "execute_result"
    }
   ],
   "source": [
    "list(df)"
   ]
  },
  {
   "cell_type": "code",
   "execution_count": 21,
   "metadata": {},
   "outputs": [
    {
     "data": {
      "text/plain": [
       "'\\nFIPS : \\nREDEMP_SNAPS12 : float\\nREDEMP_SNAPS16 : float\\nPCT_SNAP12 : float\\nPCT_SNAP16 : float\\nPC_SNAPBEN10 : float\\nPC_SNAPBEN15 : float\\nSNAP_PART_RATE08 : int\\nSNAP_PART_RATE13 : float\\nSNAP_OAPP09 : boolean(three kinds : 0, 0.5, 1)\\nSNAP_OAPP16 : boolean(three kinds : 0, 0.5, 1)\\nSNAP_CAP09 : boolean(two kinds : 0, 1)\\nSNAP_CAP16 : boolean(two kinds : 0, 1)\\nSNAP_BBCE09 : boolean(two kinds : 0, 1)\\nSNAP_BBCE16 : boolean(two kinds : 0, 1)\\nSNAP_REPORTSIMPLE09 : boolean(two kinds : 0, 1)\\nSNAP_REPORTSIMPLE16 : boolean(two kinds : 0, 1)\\nPCT_NSLP09 : float\\nPCT_NSLP15 : float\\nPCT_FREE_LUNCH09 : float\\nPCT_FREE_LUNCH14 : float\\nPCT_REDUCED_LUNCH09 : float\\nPCT_REDUCED_LUNCH14 : float\\nPCT_SBP09 : float\\nPCT_SBP15 : float\\nPCT_SFSP09 : float\\nPCT_SFSP15 : float\\nPC_WIC_REDEMP08 : float\\nPC_WIC_REDEMP12 : float\\nREDEMP_WICS08 : float\\nREDEMP_WICS12 : float\\nPCT_WIC09 : float\\nPCT_WIC15 : float\\nPCT_CACFP09 : float\\nPCT_CACFP15 : float\\n'"
      ]
     },
     "execution_count": 21,
     "metadata": {},
     "output_type": "execute_result"
    }
   ],
   "source": [
    "'''\n",
    "FIPS : \n",
    "REDEMP_SNAPS12 : float\n",
    "REDEMP_SNAPS16 : float\n",
    "PCT_SNAP12 : float\n",
    "PCT_SNAP16 : float\n",
    "PC_SNAPBEN10 : float\n",
    "PC_SNAPBEN15 : float\n",
    "SNAP_PART_RATE08 : int\n",
    "SNAP_PART_RATE13 : float\n",
    "SNAP_OAPP09 : boolean(three kinds : 0, 0.5, 1)\n",
    "SNAP_OAPP16 : boolean(three kinds : 0, 0.5, 1)\n",
    "SNAP_CAP09 : boolean(two kinds : 0, 1)\n",
    "SNAP_CAP16 : boolean(two kinds : 0, 1)\n",
    "SNAP_BBCE09 : boolean(two kinds : 0, 1)\n",
    "SNAP_BBCE16 : boolean(two kinds : 0, 1)\n",
    "SNAP_REPORTSIMPLE09 : boolean(two kinds : 0, 1)\n",
    "SNAP_REPORTSIMPLE16 : boolean(two kinds : 0, 1)\n",
    "PCT_NSLP09 : float\n",
    "PCT_NSLP15 : float\n",
    "PCT_FREE_LUNCH09 : float\n",
    "PCT_FREE_LUNCH14 : float\n",
    "PCT_REDUCED_LUNCH09 : float\n",
    "PCT_REDUCED_LUNCH14 : float\n",
    "PCT_SBP09 : float\n",
    "PCT_SBP15 : float\n",
    "PCT_SFSP09 : float\n",
    "PCT_SFSP15 : float\n",
    "PC_WIC_REDEMP08 : float\n",
    "PC_WIC_REDEMP12 : float\n",
    "REDEMP_WICS08 : float\n",
    "REDEMP_WICS12 : float\n",
    "PCT_WIC09 : float\n",
    "PCT_WIC15 : float\n",
    "PCT_CACFP09 : float\n",
    "PCT_CACFP15 : float\n",
    "'''"
   ]
  },
  {
   "cell_type": "code",
   "execution_count": 22,
   "metadata": {},
   "outputs": [],
   "source": [
    "foolist = list()\n",
    "for i in range(100):\n",
    "    barlist = list()\n",
    "    foolist.append(barlist)"
   ]
  },
  {
   "cell_type": "code",
   "execution_count": 23,
   "metadata": {},
   "outputs": [],
   "source": [
    "for i in range(35):\n",
    "    foolist[i] = df[df.columns[i]].tolist()"
   ]
  },
  {
   "cell_type": "code",
   "execution_count": 24,
   "metadata": {},
   "outputs": [],
   "source": [
    "# the data type of 7th column(SNAP_PART_RATE08) is int\n",
    "for i in [1, 2, 3, 4, 5, 6, 8, 17, 18, 19, 20, 21, 22, 23, 24, 25, 26, 27, 28, 29, 30, 31, 32, 33, 34]:\n",
    "    #foo.float_check(foolist[i])\n",
    "    foo.float_nan_filled(foolist[i])"
   ]
  },
  {
   "cell_type": "code",
   "execution_count": 25,
   "metadata": {},
   "outputs": [],
   "source": [
    "# the data type of 9th and 10th columns(SNAP_OAPP09, SNAP_OAPP16) is not completely boolean(it has three kinds)\n",
    "for i in [11, 12, 13, 14, 15, 16]:\n",
    "    #foo.bool_check(foolist[i])\n",
    "    foo.bool_filled(foolist[i])"
   ]
  },
  {
   "cell_type": "code",
   "execution_count": 26,
   "metadata": {},
   "outputs": [],
   "source": [
    "# for i in [9, 10]:\n",
    "#     for ind, j in enumerate(foolist[i]):\n",
    "#         if (j != 0) & (j != 1) & (j != 0.5):\n",
    "#             print(ind, j)"
   ]
  },
  {
   "cell_type": "code",
   "execution_count": 27,
   "metadata": {},
   "outputs": [],
   "source": [
    "se1 = pd.Series(foolist[1])\n",
    "se2 = pd.Series(foolist[2])\n",
    "se3 = pd.Series(foolist[3])\n",
    "se4 = pd.Series(foolist[4])\n",
    "se5 = pd.Series(foolist[5])\n",
    "se6 = pd.Series(foolist[6])\n",
    "se7 = pd.Series(foolist[7])\n",
    "se8 = pd.Series(foolist[8])\n",
    "se9 = pd.Series(foolist[9])\n",
    "se10 = pd.Series(foolist[10])\n",
    "se11 = pd.Series(foolist[11])\n",
    "se12 = pd.Series(foolist[12])\n",
    "se13 = pd.Series(foolist[13])\n",
    "se14 = pd.Series(foolist[14])\n",
    "se15 = pd.Series(foolist[15])\n",
    "se16 = pd.Series(foolist[16])\n",
    "se17 = pd.Series(foolist[17])\n",
    "se18 = pd.Series(foolist[18])\n",
    "se19 = pd.Series(foolist[19])\n",
    "se20 = pd.Series(foolist[20])\n",
    "se21 = pd.Series(foolist[21])\n",
    "se22 = pd.Series(foolist[22])\n",
    "se23 = pd.Series(foolist[23])\n",
    "se24 = pd.Series(foolist[24])\n",
    "se25 = pd.Series(foolist[25])\n",
    "se26 = pd.Series(foolist[26])\n",
    "se27 = pd.Series(foolist[27])\n",
    "se28 = pd.Series(foolist[28])\n",
    "se29 = pd.Series(foolist[29])\n",
    "se30 = pd.Series(foolist[30])\n",
    "se31 = pd.Series(foolist[31])\n",
    "se32 = pd.Series(foolist[32])\n",
    "se33 = pd.Series(foolist[33])\n",
    "se34 = pd.Series(foolist[34])"
   ]
  },
  {
   "cell_type": "code",
   "execution_count": 28,
   "metadata": {},
   "outputs": [],
   "source": [
    "df['REDEMP_SNAPS12'] = se1.values\n",
    "df['REDEMP_SNAPS16'] = se2.values\n",
    "df['PCT_SNAP12'] = se3.values\n",
    "df['PCT_SNAP16'] = se4.values\n",
    "df['PC_SNAPBEN10'] = se5.values\n",
    "df['PC_SNAPBEN15'] = se6.values\n",
    "df['SNAP_PART_RATE08'] = se7.values\n",
    "df['SNAP_PART_RATE13'] = se8.values\n",
    "df['SNAP_OAPP09'] = se9.values\n",
    "df['SNAP_OAPP16'] = se10.values\n",
    "df['SNAP_CAP09'] = se11.values\n",
    "df['SNAP_CAP16'] = se12.values\n",
    "df['SNAP_BBCE09'] = se13.values\n",
    "df['SNAP_BBCE16'] = se14.values\n",
    "df['SNAP_REPORTSIMPLE09'] = se15.values\n",
    "df['SNAP_REPORTSIMPLE16'] = se16.values\n",
    "df['PCT_NSLP09'] = se17.values\n",
    "df['PCT_NSLP15'] = se18.values\n",
    "df['PCT_FREE_LUNCH09'] = se19.values\n",
    "df['PCT_FREE_LUNCH14'] = se20.values\n",
    "df['PCT_REDUCED_LUNCH09'] = se21.values\n",
    "df['PCT_REDUCED_LUNCH14'] = se22.values\n",
    "df['PCT_SBP09'] = se23.values\n",
    "df['PCT_SBP15'] = se24.values\n",
    "df['PCT_SFSP09'] = se25.values\n",
    "df['PCT_SFSP15'] = se26.values\n",
    "df['PC_WIC_REDEMP08'] = se27.values\n",
    "df['PC_WIC_REDEMP12'] = se28.values\n",
    "df['REDEMP_WICS08'] = se29.values\n",
    "df['REDEMP_WICS12'] = se30.values\n",
    "df['PCT_WIC09'] = se31.values\n",
    "df['PCT_WIC15'] = se32.values\n",
    "df['PCT_CACFP09'] = se33.values\n",
    "df['PCT_CACFP15'] = se34.values"
   ]
  },
  {
   "cell_type": "code",
   "execution_count": 29,
   "metadata": {},
   "outputs": [],
   "source": [
    "df.to_csv('PROCESSED_ASSISTANCE.csv', index=False)"
   ]
  },
  {
   "cell_type": "code",
   "execution_count": null,
   "metadata": {},
   "outputs": [],
   "source": []
  }
 ],
 "metadata": {
  "kernelspec": {
   "display_name": "Python 3",
   "language": "python",
   "name": "python3"
  },
  "language_info": {
   "codemirror_mode": {
    "name": "ipython",
    "version": 3
   },
   "file_extension": ".py",
   "mimetype": "text/x-python",
   "name": "python",
   "nbconvert_exporter": "python",
   "pygments_lexer": "ipython3",
   "version": "3.5.2"
  }
 },
 "nbformat": 4,
 "nbformat_minor": 2
}
