{
 "cells": [
  {
   "cell_type": "code",
   "execution_count": 39,
   "metadata": {},
   "outputs": [],
   "source": [
    "import numpy as np\n",
    "import scipy\n",
    "import pandas as pd\n",
    "from scipy.stats import linregress\n",
    "import matplotlib.pyplot as plt\n",
    "from sklearn import datasets, linear_model\n",
    "from sklearn.metrics import mean_squared_error, r2_score\n",
    "from sklearn.decomposition import PCA\n",
    "from sklearn.feature_selection import VarianceThreshold\n",
    "from sklearn.feature_selection import SelectKBest\n",
    "from sklearn.feature_selection import chi2\n",
    "from sklearn.svm import LinearSVC\n",
    "from sklearn.feature_selection import SelectFromModel\n",
    "\n",
    "# self defined function\n",
    "import def_function as foo"
   ]
  },
  {
   "cell_type": "code",
   "execution_count": 40,
   "metadata": {},
   "outputs": [],
   "source": [
    "df = pd.read_csv('ACCESS.csv')"
   ]
  },
  {
   "cell_type": "code",
   "execution_count": 41,
   "metadata": {},
   "outputs": [
    {
     "name": "stdout",
     "output_type": "stream",
     "text": [
      "(3143, 45)\n"
     ]
    }
   ],
   "source": [
    "print(df.shape)"
   ]
  },
  {
   "cell_type": "code",
   "execution_count": 42,
   "metadata": {},
   "outputs": [],
   "source": [
    "#list(df)"
   ]
  },
  {
   "cell_type": "code",
   "execution_count": 43,
   "metadata": {},
   "outputs": [],
   "source": [
    "df = df.drop(['Unnamed: 0'], axis=1)"
   ]
  },
  {
   "cell_type": "code",
   "execution_count": 44,
   "metadata": {},
   "outputs": [],
   "source": [
    "df = df.drop(['State'], axis=1)"
   ]
  },
  {
   "cell_type": "code",
   "execution_count": 45,
   "metadata": {},
   "outputs": [],
   "source": [
    "df = df.drop(['County'], axis=1)"
   ]
  },
  {
   "cell_type": "code",
   "execution_count": 46,
   "metadata": {},
   "outputs": [],
   "source": [
    "df = df.drop(['LACCESS_POP10'], axis=1)"
   ]
  },
  {
   "cell_type": "code",
   "execution_count": 47,
   "metadata": {},
   "outputs": [],
   "source": [
    "df = df.drop(['LACCESS_POP15'], axis=1)"
   ]
  },
  {
   "cell_type": "code",
   "execution_count": 48,
   "metadata": {},
   "outputs": [],
   "source": [
    "df = df.drop(['PCH_LACCESS_POP_10_15'], axis=1)"
   ]
  },
  {
   "cell_type": "code",
   "execution_count": 49,
   "metadata": {},
   "outputs": [],
   "source": [
    "df = df.drop(['LACCESS_LOWI10'], axis=1)"
   ]
  },
  {
   "cell_type": "code",
   "execution_count": 50,
   "metadata": {},
   "outputs": [],
   "source": [
    "df = df.drop(['LACCESS_LOWI15'], axis=1)"
   ]
  },
  {
   "cell_type": "code",
   "execution_count": 51,
   "metadata": {},
   "outputs": [],
   "source": [
    "df = df.drop(['PCH_LACCESS_LOWI_10_15'], axis=1)"
   ]
  },
  {
   "cell_type": "code",
   "execution_count": 52,
   "metadata": {},
   "outputs": [],
   "source": [
    "df = df.drop(['LACCESS_HHNV10'], axis=1)"
   ]
  },
  {
   "cell_type": "code",
   "execution_count": 53,
   "metadata": {},
   "outputs": [],
   "source": [
    "df = df.drop(['LACCESS_HHNV15'], axis=1)"
   ]
  },
  {
   "cell_type": "code",
   "execution_count": 54,
   "metadata": {},
   "outputs": [],
   "source": [
    "df = df.drop(['PCH_LACCESS_HHNV_10_15'], axis=1)"
   ]
  },
  {
   "cell_type": "code",
   "execution_count": 55,
   "metadata": {},
   "outputs": [],
   "source": [
    "df = df.drop(['LACCESS_SNAP15'], axis=1)"
   ]
  },
  {
   "cell_type": "code",
   "execution_count": 56,
   "metadata": {},
   "outputs": [],
   "source": [
    "df = df.drop(['LACCESS_CHILD10'], axis=1)"
   ]
  },
  {
   "cell_type": "code",
   "execution_count": 57,
   "metadata": {},
   "outputs": [],
   "source": [
    "df = df.drop(['LACCESS_CHILD15'], axis=1)"
   ]
  },
  {
   "cell_type": "code",
   "execution_count": 58,
   "metadata": {},
   "outputs": [],
   "source": [
    "df = df.drop(['LACCESS_CHILD_10_15'], axis=1)"
   ]
  },
  {
   "cell_type": "code",
   "execution_count": 59,
   "metadata": {},
   "outputs": [],
   "source": [
    "df = df.drop(['LACCESS_SENIORS10'], axis=1)"
   ]
  },
  {
   "cell_type": "code",
   "execution_count": 60,
   "metadata": {},
   "outputs": [],
   "source": [
    "df = df.drop(['LACCESS_SENIORS15'], axis=1)"
   ]
  },
  {
   "cell_type": "code",
   "execution_count": 61,
   "metadata": {},
   "outputs": [],
   "source": [
    "df = df.drop(['PCH_LACCESS_SENIORS_10_15'], axis=1)"
   ]
  },
  {
   "cell_type": "code",
   "execution_count": 62,
   "metadata": {},
   "outputs": [],
   "source": [
    "df = df.drop(['LACCESS_WHITE15'], axis=1)"
   ]
  },
  {
   "cell_type": "code",
   "execution_count": 63,
   "metadata": {},
   "outputs": [],
   "source": [
    "df = df.drop(['LACCESS_BLACK15'], axis=1)"
   ]
  },
  {
   "cell_type": "code",
   "execution_count": 64,
   "metadata": {},
   "outputs": [],
   "source": [
    "df = df.drop(['LACCESS_HISP15'], axis=1)"
   ]
  },
  {
   "cell_type": "code",
   "execution_count": 65,
   "metadata": {},
   "outputs": [],
   "source": [
    "df = df.drop(['LACCESS_NHASIAN15'], axis=1)"
   ]
  },
  {
   "cell_type": "code",
   "execution_count": 66,
   "metadata": {},
   "outputs": [],
   "source": [
    "df = df.drop(['LACCESS_NHNA15'], axis=1)"
   ]
  },
  {
   "cell_type": "code",
   "execution_count": 67,
   "metadata": {},
   "outputs": [],
   "source": [
    "df = df.drop(['LACCESS_NHPI15'], axis=1)"
   ]
  },
  {
   "cell_type": "code",
   "execution_count": 68,
   "metadata": {},
   "outputs": [],
   "source": [
    "df = df.drop(['LACCESS_MULTIR15'], axis=1)"
   ]
  },
  {
   "cell_type": "code",
   "execution_count": 69,
   "metadata": {},
   "outputs": [
    {
     "name": "stdout",
     "output_type": "stream",
     "text": [
      "(3143, 19)\n"
     ]
    }
   ],
   "source": [
    "print(df.shape)"
   ]
  },
  {
   "cell_type": "code",
   "execution_count": 70,
   "metadata": {},
   "outputs": [
    {
     "data": {
      "text/plain": [
       "['FIPS',\n",
       " 'PCT_LACCESS_POP10',\n",
       " 'PCT_LACCESS_POP15',\n",
       " 'PCT_LACCESS_LOWI10',\n",
       " 'PCT_LACCESS_LOWI15',\n",
       " 'PCT_LACCESS_HHNV10',\n",
       " 'PCT_LACCESS_HHNV15',\n",
       " 'PCT_LACCESS_SNAP15',\n",
       " 'PCT_LACCESS_CHILD10',\n",
       " 'PCT_LACCESS_CHILD15',\n",
       " 'PCT_LACCESS_SENIORS10',\n",
       " 'PCT_LACCESS_SENIORS15',\n",
       " 'PCT_LACCESS_WHITE15',\n",
       " 'PCT_LACCESS_BLACK15',\n",
       " 'PCT_LACCESS_HISP15',\n",
       " 'PCT_LACCESS_NHASIAN15',\n",
       " 'PCT_LACCESS_NHNA15',\n",
       " 'PCT_LACCESS_NHPI15',\n",
       " 'PCT_LACCESS_MULTIR15']"
      ]
     },
     "execution_count": 70,
     "metadata": {},
     "output_type": "execute_result"
    }
   ],
   "source": [
    "list(df)"
   ]
  },
  {
   "cell_type": "code",
   "execution_count": 71,
   "metadata": {},
   "outputs": [
    {
     "data": {
      "text/plain": [
       "'\\nFIPS : int\\nPCT_LACCESS_POP10 : float\\nPCT_LACCESS_POP15 : float\\nPCT_LACCESS_LOWI10 : float\\nPCT_LACCESS_LOWI15 : float\\nPCT_LACCESS_HHNV10 : float\\nPCT_LACCESS_HHNV15 : float\\nPCT_LACCESS_SNAP15 : float \\nPCT_LACCESS_CHILD10 : float\\nPCT_LACCESS_CHILD15 : float\\nPCT_LACCESS_SENIORS10 : float\\nPCT_LACCESS_SENIORS15 : float\\nPCT_LACCESS_WHITE15 : float\\nPCT_LACCESS_BLACK15 : float\\nPCT_LACCESS_HISP15 : float\\nPCT_LACCESS_NHASIAN15 : float\\nPCT_LACCESS_NHNA15 : float\\nPCT_LACCESS_NHPI15 : float\\nPCT_LACCESS_MULTIR15 : float\\n'"
      ]
     },
     "execution_count": 71,
     "metadata": {},
     "output_type": "execute_result"
    }
   ],
   "source": [
    "'''\n",
    "FIPS : int\n",
    "PCT_LACCESS_POP10 : float\n",
    "PCT_LACCESS_POP15 : float\n",
    "PCT_LACCESS_LOWI10 : float\n",
    "PCT_LACCESS_LOWI15 : float\n",
    "PCT_LACCESS_HHNV10 : float\n",
    "PCT_LACCESS_HHNV15 : float\n",
    "PCT_LACCESS_SNAP15 : float \n",
    "PCT_LACCESS_CHILD10 : float\n",
    "PCT_LACCESS_CHILD15 : float\n",
    "PCT_LACCESS_SENIORS10 : float\n",
    "PCT_LACCESS_SENIORS15 : float\n",
    "PCT_LACCESS_WHITE15 : float\n",
    "PCT_LACCESS_BLACK15 : float\n",
    "PCT_LACCESS_HISP15 : float\n",
    "PCT_LACCESS_NHASIAN15 : float\n",
    "PCT_LACCESS_NHNA15 : float\n",
    "PCT_LACCESS_NHPI15 : float\n",
    "PCT_LACCESS_MULTIR15 : float\n",
    "'''"
   ]
  },
  {
   "cell_type": "code",
   "execution_count": 72,
   "metadata": {},
   "outputs": [],
   "source": [
    "foolist = list()\n",
    "for i in range(100):\n",
    "    barlist = list()\n",
    "    foolist.append(barlist)"
   ]
  },
  {
   "cell_type": "code",
   "execution_count": 73,
   "metadata": {},
   "outputs": [],
   "source": [
    "for i in range(19):\n",
    "    foolist[i] = df[df.columns[i]].tolist()"
   ]
  },
  {
   "cell_type": "code",
   "execution_count": 74,
   "metadata": {},
   "outputs": [],
   "source": [
    "for i in [1, 2, 3, 4, 5, 6, 7, 8, 9, 10, 11, 12, 13, 14, 15, 16, 17, 18]:\n",
    "    # foo.float_check(foolist[i])\n",
    "    foo.float_nan_filled(foolist[i])"
   ]
  },
  {
   "cell_type": "code",
   "execution_count": 75,
   "metadata": {},
   "outputs": [],
   "source": [
    "se1 = pd.Series(foolist[1])\n",
    "se2 = pd.Series(foolist[2])\n",
    "se3 = pd.Series(foolist[3])\n",
    "se4 = pd.Series(foolist[4])\n",
    "se5 = pd.Series(foolist[5])\n",
    "se6 = pd.Series(foolist[6])\n",
    "se7 = pd.Series(foolist[7])\n",
    "se8 = pd.Series(foolist[8])\n",
    "se9 = pd.Series(foolist[9])\n",
    "se10 = pd.Series(foolist[10])\n",
    "se11 = pd.Series(foolist[11])\n",
    "se12 = pd.Series(foolist[12])\n",
    "se13 = pd.Series(foolist[13])\n",
    "se14 = pd.Series(foolist[14])\n",
    "se15 = pd.Series(foolist[15])\n",
    "se16 = pd.Series(foolist[16])\n",
    "se17 = pd.Series(foolist[17])\n",
    "se18 = pd.Series(foolist[18])"
   ]
  },
  {
   "cell_type": "code",
   "execution_count": 76,
   "metadata": {},
   "outputs": [],
   "source": [
    "df['PCT_LACCESS_POP10'] = se1.values\n",
    "df['PCT_LACCESS_POP15'] = se2.values\n",
    "df['PCT_LACCESS_LOWI10'] = se3.values\n",
    "df['PCT_LACCESS_LOWI15'] = se4.values\n",
    "df['PCT_LACCESS_HHNV10'] = se5.values\n",
    "df['PCT_LACCESS_HHNV15'] = se6.values\n",
    "df['PCT_LACCESS_SNAP15 '] = se7.values\n",
    "df['PCT_LACCESS_CHILD10'] = se8.values\n",
    "df['PCT_LACCESS_CHILD15'] = se9.values\n",
    "df['PCT_LACCESS_SENIORS10'] = se10.values\n",
    "df['PCT_LACCESS_SENIORS15'] = se11.values\n",
    "df['PCT_LACCESS_WHITE15'] = se12.values\n",
    "df['PCT_LACCESS_BLACK15'] = se13.values\n",
    "df['PCT_LACCESS_HISP15'] = se14.values\n",
    "df['PCT_LACCESS_NHASIAN15'] = se15.values\n",
    "df['PCT_LACCESS_NHNA15'] = se16.values\n",
    "df['PCT_LACCESS_NHPI15'] = se17.values\n",
    "df['PCT_LACCESS_MULTIR15'] = se18.values"
   ]
  },
  {
   "cell_type": "code",
   "execution_count": 77,
   "metadata": {},
   "outputs": [],
   "source": [
    "df.to_csv('PROCESSED_ACCESS.csv', index=False)"
   ]
  },
  {
   "cell_type": "code",
   "execution_count": null,
   "metadata": {},
   "outputs": [],
   "source": []
  }
 ],
 "metadata": {
  "kernelspec": {
   "display_name": "Python 3",
   "language": "python",
   "name": "python3"
  },
  "language_info": {
   "codemirror_mode": {
    "name": "ipython",
    "version": 3
   },
   "file_extension": ".py",
   "mimetype": "text/x-python",
   "name": "python",
   "nbconvert_exporter": "python",
   "pygments_lexer": "ipython3",
   "version": "3.5.2"
  }
 },
 "nbformat": 4,
 "nbformat_minor": 2
}
