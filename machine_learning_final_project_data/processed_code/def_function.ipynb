{
 "cells": [
  {
   "cell_type": "code",
   "execution_count": 20,
   "metadata": {},
   "outputs": [],
   "source": [
    "import numpy as np\n",
    "import scipy\n",
    "import pandas as pd\n",
    "from scipy.stats import linregress\n",
    "import matplotlib.pyplot as plt\n",
    "from sklearn import datasets, linear_model\n",
    "from sklearn.metrics import mean_squared_error, r2_score\n",
    "from sklearn.decomposition import PCA\n",
    "from sklearn.feature_selection import VarianceThreshold\n",
    "from sklearn.feature_selection import SelectKBest\n",
    "from sklearn.feature_selection import chi2\n",
    "from sklearn.svm import LinearSVC\n",
    "from sklearn.feature_selection import SelectFromModel"
   ]
  },
  {
   "cell_type": "code",
   "execution_count": 21,
   "metadata": {},
   "outputs": [],
   "source": [
    "def float_check(tmplist):\n",
    "    for ind, i in enumerate(tmplist):\n",
    "        if type(i) != float:\n",
    "            print(ind, i)"
   ]
  },
  {
   "cell_type": "code",
   "execution_count": 22,
   "metadata": {},
   "outputs": [],
   "source": [
    "def bool_check(tmplist):\n",
    "    for ind, i in enumerate(tmplist):\n",
    "        if (i != 0) & (i != 1):\n",
    "            print(ind, i)"
   ]
  },
  {
   "cell_type": "code",
   "execution_count": 23,
   "metadata": {},
   "outputs": [],
   "source": [
    "def float_nan_filled(tmplist):\n",
    "    \n",
    "    num = 0\n",
    "    sum0 = 0\n",
    "    \n",
    "    # calculate the average to fill the NaN\n",
    "    for i in tmplist:\n",
    "        if np.isnan(i):\n",
    "            pass\n",
    "        else:\n",
    "            num = num + 1\n",
    "            sum0 = sum0 + i\n",
    "    aver = sum0/num\n",
    "\n",
    "    # fill the NaN with average\n",
    "    for ind, i in enumerate(tmplist):\n",
    "        if np.isnan(i):\n",
    "            tmplist[ind] = aver\n",
    "        elif type(i) != float:\n",
    "            tmplist[ind] = aver\n",
    "        else:\n",
    "            pass"
   ]
  },
  {
   "cell_type": "code",
   "execution_count": 24,
   "metadata": {},
   "outputs": [],
   "source": [
    "def bool_filled(tmplist):\n",
    "    \n",
    "    num_of_one = 0\n",
    "    num_of_zero = 0\n",
    "    \n",
    "    # calculate the mode of list\n",
    "    for i in tmplist:\n",
    "        if i == 0:\n",
    "            num_of_zero = num_of_zero + 1\n",
    "        elif i == 1:\n",
    "            num_of_one = num_of_one + 1\n",
    "        else:\n",
    "            pass\n",
    "    \n",
    "    mode0 = max(num_of_zero, num_of_one)\n",
    "    \n",
    "    for ind, i in enumerate(tmplist):\n",
    "        if (i != 0) & (i != 1):\n",
    "            tmplist[ind] = mode0"
   ]
  },
  {
   "cell_type": "code",
   "execution_count": null,
   "metadata": {},
   "outputs": [],
   "source": []
  }
 ],
 "metadata": {
  "kernelspec": {
   "display_name": "Python 3",
   "language": "python",
   "name": "python3"
  },
  "language_info": {
   "codemirror_mode": {
    "name": "ipython",
    "version": 3
   },
   "file_extension": ".py",
   "mimetype": "text/x-python",
   "name": "python",
   "nbconvert_exporter": "python",
   "pygments_lexer": "ipython3",
   "version": "3.5.2"
  }
 },
 "nbformat": 4,
 "nbformat_minor": 2
}
