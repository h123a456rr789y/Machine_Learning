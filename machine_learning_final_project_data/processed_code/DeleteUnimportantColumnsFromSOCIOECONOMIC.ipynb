{
 "cells": [
  {
   "cell_type": "code",
   "execution_count": 111,
   "metadata": {},
   "outputs": [],
   "source": [
    "import numpy as np\n",
    "import scipy\n",
    "import pandas as pd\n",
    "from scipy.stats import linregress\n",
    "import matplotlib.pyplot as plt\n",
    "from sklearn import datasets, linear_model\n",
    "from sklearn.metrics import mean_squared_error, r2_score\n",
    "from sklearn.decomposition import PCA\n",
    "from sklearn.feature_selection import VarianceThreshold\n",
    "from sklearn.feature_selection import SelectKBest\n",
    "from sklearn.feature_selection import chi2\n",
    "from sklearn.svm import LinearSVC\n",
    "from sklearn.feature_selection import SelectFromModel\n",
    "\n",
    "# self defined function\n",
    "import def_function as foo"
   ]
  },
  {
   "cell_type": "code",
   "execution_count": 112,
   "metadata": {},
   "outputs": [],
   "source": [
    "df = pd.read_csv('SOCIOECONOMIC.csv')"
   ]
  },
  {
   "cell_type": "code",
   "execution_count": 113,
   "metadata": {},
   "outputs": [
    {
     "name": "stdout",
     "output_type": "stream",
     "text": [
      "(3143, 19)\n"
     ]
    }
   ],
   "source": [
    "print(df.shape)"
   ]
  },
  {
   "cell_type": "code",
   "execution_count": 114,
   "metadata": {},
   "outputs": [
    {
     "data": {
      "text/plain": [
       "['Unnamed: 0',\n",
       " 'FIPS',\n",
       " 'State',\n",
       " 'County',\n",
       " 'PCT_NHWHITE10',\n",
       " 'PCT_NHBLACK10',\n",
       " 'PCT_HISP10',\n",
       " 'PCT_NHASIAN10',\n",
       " 'PCT_NHNA10',\n",
       " 'PCT_NHPI10',\n",
       " 'PCT_65OLDER10',\n",
       " 'PCT_18YOUNGER10',\n",
       " 'MEDHHINC15',\n",
       " 'POVRATE15',\n",
       " 'PERPOV10',\n",
       " 'CHILDPOVRATE15',\n",
       " 'PERCHLDPOV10',\n",
       " 'METRO13',\n",
       " 'POPLOSS10']"
      ]
     },
     "execution_count": 114,
     "metadata": {},
     "output_type": "execute_result"
    }
   ],
   "source": [
    "list(df)"
   ]
  },
  {
   "cell_type": "code",
   "execution_count": 115,
   "metadata": {},
   "outputs": [],
   "source": [
    "# THE WHOLE DATA IS POTENTIALLY USEFUL, NO NEED TO DELETE ANY COLUMNS"
   ]
  },
  {
   "cell_type": "code",
   "execution_count": 116,
   "metadata": {},
   "outputs": [],
   "source": [
    "df = df.drop(['Unnamed: 0'], axis=1)"
   ]
  },
  {
   "cell_type": "code",
   "execution_count": 117,
   "metadata": {},
   "outputs": [],
   "source": [
    "df = df.drop(['State'], axis=1)"
   ]
  },
  {
   "cell_type": "code",
   "execution_count": 118,
   "metadata": {},
   "outputs": [],
   "source": [
    "df = df.drop(['County'], axis=1)"
   ]
  },
  {
   "cell_type": "code",
   "execution_count": 119,
   "metadata": {},
   "outputs": [
    {
     "name": "stdout",
     "output_type": "stream",
     "text": [
      "(3143, 16)\n"
     ]
    }
   ],
   "source": [
    "print(df.shape)"
   ]
  },
  {
   "cell_type": "code",
   "execution_count": 120,
   "metadata": {},
   "outputs": [
    {
     "data": {
      "text/plain": [
       "['FIPS',\n",
       " 'PCT_NHWHITE10',\n",
       " 'PCT_NHBLACK10',\n",
       " 'PCT_HISP10',\n",
       " 'PCT_NHASIAN10',\n",
       " 'PCT_NHNA10',\n",
       " 'PCT_NHPI10',\n",
       " 'PCT_65OLDER10',\n",
       " 'PCT_18YOUNGER10',\n",
       " 'MEDHHINC15',\n",
       " 'POVRATE15',\n",
       " 'PERPOV10',\n",
       " 'CHILDPOVRATE15',\n",
       " 'PERCHLDPOV10',\n",
       " 'METRO13',\n",
       " 'POPLOSS10']"
      ]
     },
     "execution_count": 120,
     "metadata": {},
     "output_type": "execute_result"
    }
   ],
   "source": [
    "list(df)"
   ]
  },
  {
   "cell_type": "code",
   "execution_count": 121,
   "metadata": {},
   "outputs": [
    {
     "data": {
      "text/plain": [
       "'\\nFIPS : int\\nPCT_NHWHITE10 : float\\nPCT_NHBLACK10 : float\\nPCT_HISP10 : float\\nPCT_NHASIAN10 : float\\nPCT_NHNA10 : float\\nPCT_NHPI10 : float\\nPCT_65OLDER10 : float\\nPCT_18YOUNGER10 : float\\nMEDHHINC15 : float\\nPOVRATE15 : float\\nPERPOV10 : bool(0 or 1)\\nCHILDPOVRATE15 : float\\nPERCHLDPOV10 : bool(0 or 1)\\nMETRO13 : bool(0 or 1)\\nPOPLOSS10 : bool(0 or 1)\\n'"
      ]
     },
     "execution_count": 121,
     "metadata": {},
     "output_type": "execute_result"
    }
   ],
   "source": [
    "'''\n",
    "FIPS : int\n",
    "PCT_NHWHITE10 : float\n",
    "PCT_NHBLACK10 : float\n",
    "PCT_HISP10 : float\n",
    "PCT_NHASIAN10 : float\n",
    "PCT_NHNA10 : float\n",
    "PCT_NHPI10 : float\n",
    "PCT_65OLDER10 : float\n",
    "PCT_18YOUNGER10 : float\n",
    "MEDHHINC15 : float\n",
    "POVRATE15 : float\n",
    "PERPOV10 : bool(0 or 1)\n",
    "CHILDPOVRATE15 : float\n",
    "PERCHLDPOV10 : bool(0 or 1)\n",
    "METRO13 : bool(0 or 1)\n",
    "POPLOSS10 : bool(0 or 1)\n",
    "'''"
   ]
  },
  {
   "cell_type": "code",
   "execution_count": 122,
   "metadata": {},
   "outputs": [],
   "source": [
    "foolist = list()\n",
    "for i in range(100):\n",
    "    barlist = list()\n",
    "    foolist.append(barlist)"
   ]
  },
  {
   "cell_type": "code",
   "execution_count": 123,
   "metadata": {},
   "outputs": [],
   "source": [
    "for i in range(16):\n",
    "    foolist[i] = df[df.columns[i]].tolist()"
   ]
  },
  {
   "cell_type": "code",
   "execution_count": 126,
   "metadata": {},
   "outputs": [],
   "source": [
    "for i in [1, 2, 3, 4, 5, 6, 7, 8, 9, 10, 12]:\n",
    "    #foo.float_check(foolist[i])\n",
    "    foo.float_nan_filled(foolist[i])"
   ]
  },
  {
   "cell_type": "code",
   "execution_count": 137,
   "metadata": {},
   "outputs": [],
   "source": [
    "for i in [11, 13, 14, 15]:\n",
    "    foo.bool_check(foolist[i])\n",
    "    #foo.bool_filled(foolist[i])"
   ]
  },
  {
   "cell_type": "code",
   "execution_count": 138,
   "metadata": {},
   "outputs": [],
   "source": [
    "se1 = pd.Series(foolist[1])\n",
    "se2 = pd.Series(foolist[2])\n",
    "se3 = pd.Series(foolist[3])\n",
    "se4 = pd.Series(foolist[4])\n",
    "se5 = pd.Series(foolist[5])\n",
    "se6 = pd.Series(foolist[6])\n",
    "se7 = pd.Series(foolist[7])\n",
    "se8 = pd.Series(foolist[8])\n",
    "se9 = pd.Series(foolist[9])\n",
    "se10 = pd.Series(foolist[10])\n",
    "se11 = pd.Series(foolist[11])\n",
    "se12 = pd.Series(foolist[12])\n",
    "se13 = pd.Series(foolist[13])\n",
    "se14 = pd.Series(foolist[14])\n",
    "se15 = pd.Series(foolist[15])"
   ]
  },
  {
   "cell_type": "code",
   "execution_count": 139,
   "metadata": {},
   "outputs": [],
   "source": [
    "df['PCT_NHWHITE10'] = se1.values\n",
    "df['PCT_NHBLACK10'] = se2.values\n",
    "df['PCT_HISP10'] = se3.values\n",
    "df['PCT_NHASIAN10'] = se4.values\n",
    "df['PCT_NHNA10'] = se5.values\n",
    "df['PCT_NHPI10'] = se6.values\n",
    "df['PCT_65OLDER10'] = se7.values\n",
    "df['PCT_18YOUNGER10'] = se8.values\n",
    "df['MEDHHINC15'] = se9.values\n",
    "df['POVRATE15'] = se10.values\n",
    "df['PERPOV10'] = se11.values\n",
    "df['CHILDPOVRATE15'] = se12.values\n",
    "df['PERCHLDPOV10'] = se13.values\n",
    "df['METRO13'] = se14.values\n",
    "df['POPLOSS10'] = se15.values"
   ]
  },
  {
   "cell_type": "code",
   "execution_count": 141,
   "metadata": {},
   "outputs": [],
   "source": [
    "df.to_csv('PROCESSED_SOCIOECONOMIC.csv', index=False)"
   ]
  },
  {
   "cell_type": "code",
   "execution_count": null,
   "metadata": {},
   "outputs": [],
   "source": []
  }
 ],
 "metadata": {
  "kernelspec": {
   "display_name": "Python 3",
   "language": "python",
   "name": "python3"
  },
  "language_info": {
   "codemirror_mode": {
    "name": "ipython",
    "version": 3
   },
   "file_extension": ".py",
   "mimetype": "text/x-python",
   "name": "python",
   "nbconvert_exporter": "python",
   "pygments_lexer": "ipython3",
   "version": "3.5.2"
  }
 },
 "nbformat": 4,
 "nbformat_minor": 2
}
