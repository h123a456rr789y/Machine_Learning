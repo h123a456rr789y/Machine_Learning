{
 "cells": [
  {
   "cell_type": "code",
   "execution_count": 66,
   "metadata": {},
   "outputs": [],
   "source": [
    "import pandas as pd\n",
    "import numpy as np"
   ]
  },
  {
   "cell_type": "code",
   "execution_count": 67,
   "metadata": {},
   "outputs": [],
   "source": [
    "newXls = pd.ExcelFile('DataDownload.xls')"
   ]
  },
  {
   "cell_type": "code",
   "execution_count": 68,
   "metadata": {},
   "outputs": [],
   "source": [
    "df1 = df1 = pd.read_excel(newXls, 'Read_Me')\n",
    "df1.to_csv('Read_Me.csv')"
   ]
  },
  {
   "cell_type": "code",
   "execution_count": 69,
   "metadata": {},
   "outputs": [],
   "source": [
    "df2 = pd.read_excel(newXls, 'Variable List')\n",
    "df2.to_csv('Variable List.csv')"
   ]
  },
  {
   "cell_type": "code",
   "execution_count": 70,
   "metadata": {},
   "outputs": [],
   "source": [
    "df3 = pd.read_excel(newXls, 'Supplemental Data - County')\n",
    "df3.to_csv('Supplemental Data - County.csv')"
   ]
  },
  {
   "cell_type": "code",
   "execution_count": 71,
   "metadata": {},
   "outputs": [],
   "source": [
    "df4 = pd.read_excel(newXls, 'Supplemental Data - State')\n",
    "df4.to_csv('Supplemental Data - State.csv')"
   ]
  },
  {
   "cell_type": "code",
   "execution_count": 72,
   "metadata": {},
   "outputs": [],
   "source": [
    "df5 = pd.read_excel(newXls, 'ACCESS')\n",
    "df5.to_csv('ACCESS.csv')"
   ]
  },
  {
   "cell_type": "code",
   "execution_count": 73,
   "metadata": {},
   "outputs": [],
   "source": [
    "df6 = pd.read_excel(newXls, 'STORES')\n",
    "df6.to_csv('STORES.csv')"
   ]
  },
  {
   "cell_type": "code",
   "execution_count": 74,
   "metadata": {},
   "outputs": [],
   "source": [
    "df7 = pd.read_excel(newXls, 'RESTAURANTS')\n",
    "df7.to_csv('RESTAURANTS.csv')"
   ]
  },
  {
   "cell_type": "code",
   "execution_count": 75,
   "metadata": {},
   "outputs": [],
   "source": [
    "df8 = pd.read_excel(newXls, 'ASSISTANCE')\n",
    "df8.to_csv('ASSISTANCE.csv')"
   ]
  },
  {
   "cell_type": "code",
   "execution_count": 76,
   "metadata": {},
   "outputs": [],
   "source": [
    "df9 = pd.read_excel(newXls, 'INSECURITY')\n",
    "df9.to_csv('INSECURITY.csv')"
   ]
  },
  {
   "cell_type": "code",
   "execution_count": 77,
   "metadata": {},
   "outputs": [],
   "source": [
    "df10 = pd.read_excel(newXls, 'PRICES_TAXES')\n",
    "df10.to_csv('PRICES_TAXES.csv')"
   ]
  },
  {
   "cell_type": "code",
   "execution_count": 78,
   "metadata": {},
   "outputs": [],
   "source": [
    "df11 = pd.read_excel(newXls, 'LOCAL')\n",
    "df11.to_csv('LOCAL.csv')"
   ]
  },
  {
   "cell_type": "code",
   "execution_count": 79,
   "metadata": {},
   "outputs": [],
   "source": [
    "df12 = pd.read_excel(newXls, 'HEALTH')\n",
    "df12.to_csv('HEALTH.csv')"
   ]
  },
  {
   "cell_type": "code",
   "execution_count": 80,
   "metadata": {},
   "outputs": [],
   "source": [
    "df13 = pd.read_excel(newXls, 'SOCIOECONOMIC')\n",
    "df13.to_csv('SOCIOECONOMIC.csv')"
   ]
  }
 ],
 "metadata": {
  "kernelspec": {
   "display_name": "Python 3",
   "language": "python",
   "name": "python3"
  },
  "language_info": {
   "codemirror_mode": {
    "name": "ipython",
    "version": 3
   },
   "file_extension": ".py",
   "mimetype": "text/x-python",
   "name": "python",
   "nbconvert_exporter": "python",
   "pygments_lexer": "ipython3",
   "version": "3.5.2"
  }
 },
 "nbformat": 4,
 "nbformat_minor": 2
}
